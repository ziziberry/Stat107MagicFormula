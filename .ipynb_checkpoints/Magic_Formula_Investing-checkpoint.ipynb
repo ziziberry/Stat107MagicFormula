{
 "cells": [
  {
   "cell_type": "markdown",
   "metadata": {},
   "source": [
    "# Magic Formula Investing: Implementation and Simulation Using Python\n",
    "## By Zongning (ZiZi) Zhang, Connor Roberts, Xincheng You, and Samuel Lam\n",
    "\n",
    "### Table of Contents\n",
    "* Part A: Data Wrangling\n",
    "* Part B: Implementation"
   ]
  },
  {
   "cell_type": "markdown",
   "metadata": {},
   "source": [
    "## Part A: Cleaning the Data"
   ]
  },
  {
   "cell_type": "code",
   "execution_count": 1,
   "metadata": {
    "collapsed": true
   },
   "outputs": [],
   "source": [
    "# importing packages that are used throughout the code\n",
    "import math\n",
    "import numpy as np\n",
    "import pandas as pd\n",
    "import pylab as plt\n",
    "\n",
    "%matplotlib inline\n",
    "import matplotlib.pyplot as plt\n",
    "\n",
    "from matplotlib import rcParams"
   ]
  },
  {
   "cell_type": "code",
   "execution_count": 2,
   "metadata": {
    "collapsed": false
   },
   "outputs": [],
   "source": [
    "# importing our raw data and viewing a tiny subset of it\n",
    "# data was downloaded for the Wharton Research Data Services site, using the Compustat Database\n",
    "# https://wrds-web.wharton.upenn.edu/wrds/support/Data/_003Sample%20Programs/Compustat/compna_translate_vars.cfm?\n",
    "\n",
    "# df containly quarterly company fundamentals, such as debt, cash, PPE, etc\n",
    "# Compustat does not contain quarterly EBIT values, which is crucial to our calculations\n",
    "df=pd.read_csv(\"QuarterlyRawDataNoEBIT.csv\")\n",
    "\n",
    "# the Compustat database only offers EBIT on an annual basis, so ebit_df \n",
    "# contains annual data for each company's EBIT \n",
    "ebit_df=pd.read_csv(\"AnnualRawInputData.csv\")"
   ]
  },
  {
   "cell_type": "code",
   "execution_count": 3,
   "metadata": {
    "collapsed": false
   },
   "outputs": [
    {
     "name": "stdout",
     "output_type": "stream",
     "text": [
      "Length of Quarterly Data:  512530\n",
      "Length of Annual Data:  140522\n"
     ]
    },
    {
     "data": {
      "text/html": [
       "<div>\n",
       "<table border=\"1\" class=\"dataframe\">\n",
       "  <thead>\n",
       "    <tr style=\"text-align: right;\">\n",
       "      <th></th>\n",
       "      <th>gvkey</th>\n",
       "      <th>datadate</th>\n",
       "      <th>fyearq</th>\n",
       "      <th>fqtr</th>\n",
       "      <th>indfmt</th>\n",
       "      <th>consol</th>\n",
       "      <th>popsrc</th>\n",
       "      <th>datafmt</th>\n",
       "      <th>tic</th>\n",
       "      <th>conm</th>\n",
       "      <th>...</th>\n",
       "      <th>cstkq</th>\n",
       "      <th>dlcq</th>\n",
       "      <th>dlttq</th>\n",
       "      <th>ppentq</th>\n",
       "      <th>pstkq</th>\n",
       "      <th>wcapq</th>\n",
       "      <th>costat</th>\n",
       "      <th>mkvaltq</th>\n",
       "      <th>prccq</th>\n",
       "      <th>sic</th>\n",
       "    </tr>\n",
       "  </thead>\n",
       "  <tbody>\n",
       "    <tr>\n",
       "      <th>0</th>\n",
       "      <td>1004</td>\n",
       "      <td>02/28/1990</td>\n",
       "      <td>1989</td>\n",
       "      <td>3</td>\n",
       "      <td>INDL</td>\n",
       "      <td>C</td>\n",
       "      <td>D</td>\n",
       "      <td>STD</td>\n",
       "      <td>AIR</td>\n",
       "      <td>AAR CORP</td>\n",
       "      <td>...</td>\n",
       "      <td>16.070</td>\n",
       "      <td>32.551</td>\n",
       "      <td>72.606</td>\n",
       "      <td>53.428</td>\n",
       "      <td>0</td>\n",
       "      <td>188.100</td>\n",
       "      <td>A</td>\n",
       "      <td>NaN</td>\n",
       "      <td>31.125</td>\n",
       "      <td>5080</td>\n",
       "    </tr>\n",
       "    <tr>\n",
       "      <th>1</th>\n",
       "      <td>1004</td>\n",
       "      <td>05/31/1990</td>\n",
       "      <td>1989</td>\n",
       "      <td>4</td>\n",
       "      <td>INDL</td>\n",
       "      <td>C</td>\n",
       "      <td>D</td>\n",
       "      <td>STD</td>\n",
       "      <td>AIR</td>\n",
       "      <td>AAR CORP</td>\n",
       "      <td>...</td>\n",
       "      <td>16.082</td>\n",
       "      <td>33.821</td>\n",
       "      <td>72.329</td>\n",
       "      <td>63.441</td>\n",
       "      <td>0</td>\n",
       "      <td>184.932</td>\n",
       "      <td>A</td>\n",
       "      <td>NaN</td>\n",
       "      <td>21.250</td>\n",
       "      <td>5080</td>\n",
       "    </tr>\n",
       "    <tr>\n",
       "      <th>2</th>\n",
       "      <td>1004</td>\n",
       "      <td>08/31/1990</td>\n",
       "      <td>1990</td>\n",
       "      <td>1</td>\n",
       "      <td>INDL</td>\n",
       "      <td>C</td>\n",
       "      <td>D</td>\n",
       "      <td>STD</td>\n",
       "      <td>AIR</td>\n",
       "      <td>AAR CORP</td>\n",
       "      <td>...</td>\n",
       "      <td>16.086</td>\n",
       "      <td>27.427</td>\n",
       "      <td>71.806</td>\n",
       "      <td>63.545</td>\n",
       "      <td>0</td>\n",
       "      <td>189.351</td>\n",
       "      <td>A</td>\n",
       "      <td>NaN</td>\n",
       "      <td>15.875</td>\n",
       "      <td>5080</td>\n",
       "    </tr>\n",
       "    <tr>\n",
       "      <th>3</th>\n",
       "      <td>1004</td>\n",
       "      <td>11/30/1990</td>\n",
       "      <td>1990</td>\n",
       "      <td>2</td>\n",
       "      <td>INDL</td>\n",
       "      <td>C</td>\n",
       "      <td>D</td>\n",
       "      <td>STD</td>\n",
       "      <td>AIR</td>\n",
       "      <td>AAR CORP</td>\n",
       "      <td>...</td>\n",
       "      <td>16.086</td>\n",
       "      <td>33.563</td>\n",
       "      <td>71.769</td>\n",
       "      <td>63.075</td>\n",
       "      <td>0</td>\n",
       "      <td>186.955</td>\n",
       "      <td>A</td>\n",
       "      <td>NaN</td>\n",
       "      <td>11.875</td>\n",
       "      <td>5080</td>\n",
       "    </tr>\n",
       "    <tr>\n",
       "      <th>4</th>\n",
       "      <td>1004</td>\n",
       "      <td>02/28/1991</td>\n",
       "      <td>1990</td>\n",
       "      <td>3</td>\n",
       "      <td>INDL</td>\n",
       "      <td>C</td>\n",
       "      <td>D</td>\n",
       "      <td>STD</td>\n",
       "      <td>AIR</td>\n",
       "      <td>AAR CORP</td>\n",
       "      <td>...</td>\n",
       "      <td>16.097</td>\n",
       "      <td>11.436</td>\n",
       "      <td>69.020</td>\n",
       "      <td>63.626</td>\n",
       "      <td>0</td>\n",
       "      <td>184.665</td>\n",
       "      <td>A</td>\n",
       "      <td>NaN</td>\n",
       "      <td>12.875</td>\n",
       "      <td>5080</td>\n",
       "    </tr>\n",
       "  </tbody>\n",
       "</table>\n",
       "<p>5 rows × 25 columns</p>\n",
       "</div>"
      ],
      "text/plain": [
       "   gvkey    datadate  fyearq  fqtr indfmt consol popsrc datafmt  tic  \\\n",
       "0   1004  02/28/1990    1989     3   INDL      C      D     STD  AIR   \n",
       "1   1004  05/31/1990    1989     4   INDL      C      D     STD  AIR   \n",
       "2   1004  08/31/1990    1990     1   INDL      C      D     STD  AIR   \n",
       "3   1004  11/30/1990    1990     2   INDL      C      D     STD  AIR   \n",
       "4   1004  02/28/1991    1990     3   INDL      C      D     STD  AIR   \n",
       "\n",
       "       conm  ...    cstkq    dlcq   dlttq  ppentq  pstkq    wcapq  costat  \\\n",
       "0  AAR CORP  ...   16.070  32.551  72.606  53.428      0  188.100       A   \n",
       "1  AAR CORP  ...   16.082  33.821  72.329  63.441      0  184.932       A   \n",
       "2  AAR CORP  ...   16.086  27.427  71.806  63.545      0  189.351       A   \n",
       "3  AAR CORP  ...   16.086  33.563  71.769  63.075      0  186.955       A   \n",
       "4  AAR CORP  ...   16.097  11.436  69.020  63.626      0  184.665       A   \n",
       "\n",
       "   mkvaltq   prccq   sic  \n",
       "0      NaN  31.125  5080  \n",
       "1      NaN  21.250  5080  \n",
       "2      NaN  15.875  5080  \n",
       "3      NaN  11.875  5080  \n",
       "4      NaN  12.875  5080  \n",
       "\n",
       "[5 rows x 25 columns]"
      ]
     },
     "execution_count": 3,
     "metadata": {},
     "output_type": "execute_result"
    }
   ],
   "source": [
    "print \"Length of Quarterly Data: \", len(df)\n",
    "print \"Length of Annual Data: \", len(ebit_df)\n",
    "df.head()"
   ]
  },
  {
   "cell_type": "code",
   "execution_count": 4,
   "metadata": {
    "collapsed": false
   },
   "outputs": [
    {
     "name": "stdout",
     "output_type": "stream",
     "text": [
      "487706 124596\n"
     ]
    }
   ],
   "source": [
    "# trimming data for years past 2014\n",
    "df=df[df['fyearq']<2015]\n",
    "ebit_df=ebit_df[ebit_df['fyear']<2015]\n",
    "\n",
    "# eliminating duplicate data that is double-listed under FS and INDL \n",
    "ebit_df=ebit_df[ebit_df['indfmt']!=\"FS\"]\n",
    "\n",
    "# the length of both dataframes should be shortening\n",
    "print len(df), len(ebit_df)"
   ]
  },
  {
   "cell_type": "code",
   "execution_count": 5,
   "metadata": {
    "collapsed": false
   },
   "outputs": [
    {
     "name": "stdout",
     "output_type": "stream",
     "text": [
      "350463 87305\n"
     ]
    }
   ],
   "source": [
    "# extracting the companies that have missing EBIT values\n",
    "missing_ebit_tics=ebit_df[ebit_df['ebit'].isnull()].tic.unique()\n",
    "\n",
    "# removing those companies from our datasets \n",
    "df = df[~df.tic.isin(missing_ebit_tics)]\n",
    "ebit_df = ebit_df[~ebit_df.tic.isin(missing_ebit_tics)]\n",
    "\n",
    "# the length of both dataframes should be shortening\n",
    "print len(df), len(ebit_df)"
   ]
  },
  {
   "cell_type": "code",
   "execution_count": 8,
   "metadata": {
    "collapsed": true
   },
   "outputs": [],
   "source": [
    "# function to get the appropriate annual EBIT value for each row in the quarterly dataframe\n",
    "def get_row_ebit(row):\n",
    "    ebit_row = ebit_df[ebit_df['fyear']==row['fyearq']]\n",
    "    ebit_row = ebit_row[ebit_row['tic']== row['tic']]\n",
    "    if ebit_row['ebit'].empty:\n",
    "        return float('NaN')\n",
    "    else: \n",
    "        return float(ebit_row['ebit'])"
   ]
  },
  {
   "cell_type": "code",
   "execution_count": 9,
   "metadata": {
    "collapsed": false
   },
   "outputs": [
    {
     "name": "stdout",
     "output_type": "stream",
     "text": [
      "CPU times: user 16min 18s, sys: 3.21 s, total: 16min 21s\n",
      "Wall time: 16min 21s\n"
     ]
    }
   ],
   "source": [
    "%%time \n",
    "# takes a while to run so don't run this every time\n",
    "# the edited CSVs have been saved and can be loaded in separately \n",
    "df['ebit']=df.apply(get_row_ebit,axis=1)"
   ]
  },
  {
   "cell_type": "code",
   "execution_count": 10,
   "metadata": {
    "collapsed": true
   },
   "outputs": [],
   "source": [
    "# function to get the appropriate annual cash values for \n",
    "# rows with missing cash values in the quarterly dataframe\n",
    "# \n",
    "# quarterly cash values are generally missing before 2007\n",
    "def get_row_cash(row):\n",
    "    if math.isnan(row['chq']):\n",
    "        cash_row = ebit_df[ebit_df['datadate']==row['datadate']]\n",
    "        cash_row = cash_row[cash_row['tic']==row['tic']]\n",
    "        if cash_row['ch'].empty:\n",
    "            return float('NaN')\n",
    "        else: \n",
    "            return float(cash_row['ch'])\n",
    "    else: \n",
    "        return row['chq']    "
   ]
  },
  {
   "cell_type": "code",
   "execution_count": 11,
   "metadata": {
    "collapsed": false
   },
   "outputs": [
    {
     "name": "stdout",
     "output_type": "stream",
     "text": [
      "CPU times: user 19min 56s, sys: 1.75 s, total: 19min 58s\n",
      "Wall time: 19min 58s\n"
     ]
    }
   ],
   "source": [
    "%%time\n",
    "# also takes around 10-15 minutes\n",
    "df['chq']=df.apply(get_row_cash,axis=1)"
   ]
  },
  {
   "cell_type": "code",
   "execution_count": 30,
   "metadata": {
    "collapsed": true
   },
   "outputs": [],
   "source": [
    "# function to get the appropriate annual mkvalt values for \n",
    "# rows with missing cash values in the quarterly dataframe\n",
    "# \n",
    "# quarterly cash values are generally missing before 2007\n",
    "def get_row_mkvalt(row):\n",
    "    if math.isnan(row['mkvaltq']):\n",
    "        cash_row = ebit_df[ebit_df['datadate']==row['datadate']]\n",
    "        cash_row = cash_row[cash_row['tic']==row['tic']]\n",
    "        if cash_row['mkvalt'].empty:\n",
    "            return float('NaN')\n",
    "        else: \n",
    "            return float(cash_row['mkvalt'])\n",
    "    else: \n",
    "        return row['mkvaltq'] "
   ]
  },
  {
   "cell_type": "code",
   "execution_count": 31,
   "metadata": {
    "collapsed": false
   },
   "outputs": [
    {
     "name": "stdout",
     "output_type": "stream",
     "text": [
      "CPU times: user 4min 33s, sys: 969 ms, total: 4min 34s\n",
      "Wall time: 4min 35s\n"
     ]
    }
   ],
   "source": [
    "%%time\n",
    "# also takes around 10-15 minutes\n",
    "df['mkvaltq']=df.apply(get_row_mkvalt,axis=1)"
   ]
  },
  {
   "cell_type": "code",
   "execution_count": 33,
   "metadata": {
    "collapsed": false
   },
   "outputs": [
    {
     "name": "stdout",
     "output_type": "stream",
     "text": [
      "99836\n"
     ]
    }
   ],
   "source": [
    "# dropping the rows that still have missing cash values in the quarterly dataset\n",
    "df=df[~np.isnan(df['chq'])]\n",
    "\n",
    "# dropping the rows that still have missing EBIT values in the quarterly dataset\n",
    "df=df[~np.isnan(df['ebit'])]\n",
    "\n",
    "\n",
    "# dropping the rows with missing market values (mkvaltq) in the quarterly dataset\n",
    "df=df[~np.isnan(df['mkvaltq'])]\n",
    "print len(df)\n",
    "\n",
    "# export to CSV so we don't have to rerun the cleaning and get_row_ebit/get_row_cash functions everytime\n",
    "df.to_csv(\"CleanedQuarterlyEBITCash.csv\")\n",
    "ebit_df.to_csv(\"CleanedAnnualEBIT.csv\")"
   ]
  },
  {
   "cell_type": "markdown",
   "metadata": {},
   "source": [
    "## Part B: Implementation\n",
    "### Start here to avoid running data-cleaning code above (which takes ~30 minutes)"
   ]
  },
  {
   "cell_type": "code",
   "execution_count": 34,
   "metadata": {
    "collapsed": false
   },
   "outputs": [
    {
     "name": "stdout",
     "output_type": "stream",
     "text": [
      "99836 87305\n"
     ]
    }
   ],
   "source": [
    "# re-read in the cleaned dataframes\n",
    "df=pd.read_csv(\"CleanedQuarterlyEBITCash.csv\")\n",
    "ebit_df=pd.read_csv(\"CleanedAnnualEBIT.csv\")\n",
    "print len(df), len(ebit_df)\n",
    "\n",
    "# drop the index column that gets added mysteriously during exporting\n",
    "\n",
    "if 'Unnamed: 0' in df.columns:\n",
    "    df.drop('Unnamed: 0', axis=1, inplace=True)\n",
    "if 'Unnamed: 0' in ebit_df.columns:\n",
    "    ebit_df.drop('Unnamed: 0', axis=1, inplace=True)"
   ]
  },
  {
   "cell_type": "code",
   "execution_count": 35,
   "metadata": {
    "collapsed": false
   },
   "outputs": [],
   "source": [
    "# get a list of all the unique tickers in our datasets\n",
    "tics = pd.DataFrame(data=df['tic'].unique(), columns=['ticker'])\n",
    "tics.to_csv('AllUniqueTickers.csv')"
   ]
  },
  {
   "cell_type": "markdown",
   "metadata": {},
   "source": [
    "## 1. Establish minimum market capitalization value of 50M\n",
    "\n",
    "#### Filter out companies that do not meet this minimum"
   ]
  },
  {
   "cell_type": "code",
   "execution_count": 67,
   "metadata": {
    "collapsed": false
   },
   "outputs": [],
   "source": [
    "# we write a function here that will be used later once the year of simulation is determined\n",
    "# year >= 1998, since mkvaltq are not reported before then \n",
    "\n",
    "# returns a list of companies that meet the minimum market cap requirement in a given year\n",
    "min_market_cap = 50\n",
    "def set_min_market_cap(df, year):\n",
    "    df_for_year = df[df['fyearq']==year]\n",
    "    df_for_year = df_for_year[df_for_year['mkvaltq']>min_market_cap]\n",
    "    return list(df_for_year['tic'])"
   ]
  },
  {
   "cell_type": "markdown",
   "metadata": {},
   "source": [
    "## 2. Excluding utility and financial companies"
   ]
  },
  {
   "cell_type": "code",
   "execution_count": 68,
   "metadata": {
    "collapsed": false
   },
   "outputs": [
    {
     "name": "stdout",
     "output_type": "stream",
     "text": [
      "99836 87305\n"
     ]
    }
   ],
   "source": [
    "# remove SIC Division H Companies: Finance, Insurance, and Real Estate\n",
    "# https://www.osha.gov/pls/imis/sic_manual.html\n",
    "df_below_6000=df[df['sic']<6000]\n",
    "df_above_7000=df[df['sic']>=7000]\n",
    "\n",
    "df=pd.concat([df_below_6000,df_above_7000])\n",
    "\n",
    "# still shortening\n",
    "print len(df), len(ebit_df)"
   ]
  },
  {
   "cell_type": "code",
   "execution_count": 38,
   "metadata": {
    "collapsed": false
   },
   "outputs": [
    {
     "name": "stdout",
     "output_type": "stream",
     "text": [
      "99836 87305\n"
     ]
    }
   ],
   "source": [
    "# remove SIC Division E Companies: Transportation, Communications, Electric, Gas, and Sanitary Services\n",
    "# https://www.osha.gov/pls/imis/sic_manual.html\n",
    "df_below_4000=df[df['sic']<4000]\n",
    "df_above_5000=df[df['sic']>=5000]\n",
    "\n",
    "df=pd.concat([df_below_4000,df_above_5000])\n",
    "\n",
    "# still shortening\n",
    "print len(df), len(ebit_df)"
   ]
  },
  {
   "cell_type": "markdown",
   "metadata": {},
   "source": [
    "## 3. Calculating Earnings Yield: EBIT/EV"
   ]
  },
  {
   "cell_type": "code",
   "execution_count": 39,
   "metadata": {
    "collapsed": true
   },
   "outputs": [],
   "source": [
    "# basic function to calculate ratio 1 across a row\n",
    "# ratio 1 = EBIT / EV\n",
    "# EBIT = earnings before interest and taxes, after subtracting depreciation and amortization\n",
    "# EV = enterprise value = market cap + debt - cash\n",
    "# EV = MKVALTQ + DTQ - CHQ\n",
    "# MKVALTQ = market cap = value of preferred stock + value of common stock\n",
    "# MKVALTQ = PSTKQ + CSTKQ \n",
    "# DTQ = debt = long-term debt + net current debt\n",
    "# DTQ = DLTTQ + DLCQ\n",
    "# CHQ = cash\n",
    "# ratio 1 = EBIT / (MKVALTQ + DLCQ + DLTTQ - CHQ)\n",
    "def ratio_one(row):\n",
    "    if math.isnan(row['mkvaltq']) or math.isnan(row['dlcq']) or math.isnan(row['dlttq']) or math.isnan(row['chq']) or (row['mkvaltq']+row['dlcq']+row['dlttq']-row['chq'])==0: \n",
    "        ratio = float('NaN')\n",
    "    else: \n",
    "        ratio=row['ebit']/(row['mkvaltq']+row['dlcq']+row['dlttq']-row['chq'])\n",
    "    return ratio"
   ]
  },
  {
   "cell_type": "code",
   "execution_count": 40,
   "metadata": {
    "collapsed": false
   },
   "outputs": [
    {
     "name": "stdout",
     "output_type": "stream",
     "text": [
      "CPU times: user 4.77 s, sys: 36.1 ms, total: 4.8 s\n",
      "Wall time: 4.8 s\n"
     ]
    }
   ],
   "source": [
    "%%time\n",
    "# add the ratio1 column to the dataframe\n",
    "df['ratio1']=df.apply(ratio_one,axis=1)"
   ]
  },
  {
   "cell_type": "markdown",
   "metadata": {},
   "source": [
    "## 4. Calculating Return on Capital: EBIT/(NFA + NWC)"
   ]
  },
  {
   "cell_type": "code",
   "execution_count": 41,
   "metadata": {
    "collapsed": true
   },
   "outputs": [],
   "source": [
    "# basic function to calculate ratio 2 across a row\n",
    "# ratio 2 = EBIT / (NFA + NWC)\n",
    "# EBIT = earnings before interest and taxes, after subtracting depreciation and amortization\n",
    "# NFA = net fixed assets = net book value of Property Plant and Equipment (PPENTQ)\n",
    "# NMW = net working capital = working capital - cash = WCAPQ - CHQ\n",
    "def ratio_two(row):\n",
    "    if math.isnan(row['ppentq']) or math.isnan(row['wcapq']) or math.isnan(row['chq']) or row['ppentq']+row['wcapq']-row['chq']==0:\n",
    "        ratio = float('NaN')\n",
    "    else: \n",
    "        ratio=row['ebit']/(row['ppentq']+row['wcapq']-row['chq'])\n",
    "    return ratio"
   ]
  },
  {
   "cell_type": "code",
   "execution_count": 42,
   "metadata": {
    "collapsed": false
   },
   "outputs": [
    {
     "name": "stdout",
     "output_type": "stream",
     "text": [
      "CPU times: user 3.68 s, sys: 13 ms, total: 3.7 s\n",
      "Wall time: 3.69 s\n"
     ]
    }
   ],
   "source": [
    "%%time\n",
    "# add the ratio2 column to the dataframe\n",
    "df['ratio2']=df.apply(ratio_two,axis=1)"
   ]
  },
  {
   "cell_type": "code",
   "execution_count": 43,
   "metadata": {
    "collapsed": false
   },
   "outputs": [
    {
     "data": {
      "text/html": [
       "<div>\n",
       "<table border=\"1\" class=\"dataframe\">\n",
       "  <thead>\n",
       "    <tr style=\"text-align: right;\">\n",
       "      <th></th>\n",
       "      <th>gvkey</th>\n",
       "      <th>datadate</th>\n",
       "      <th>fyearq</th>\n",
       "      <th>fqtr</th>\n",
       "      <th>indfmt</th>\n",
       "      <th>consol</th>\n",
       "      <th>popsrc</th>\n",
       "      <th>datafmt</th>\n",
       "      <th>tic</th>\n",
       "      <th>conm</th>\n",
       "      <th>...</th>\n",
       "      <th>ppentq</th>\n",
       "      <th>pstkq</th>\n",
       "      <th>wcapq</th>\n",
       "      <th>costat</th>\n",
       "      <th>mkvaltq</th>\n",
       "      <th>prccq</th>\n",
       "      <th>sic</th>\n",
       "      <th>ebit</th>\n",
       "      <th>ratio1</th>\n",
       "      <th>ratio2</th>\n",
       "    </tr>\n",
       "  </thead>\n",
       "  <tbody>\n",
       "    <tr>\n",
       "      <th>0</th>\n",
       "      <td>1050</td>\n",
       "      <td>12/31/1998</td>\n",
       "      <td>1998</td>\n",
       "      <td>4</td>\n",
       "      <td>INDL</td>\n",
       "      <td>C</td>\n",
       "      <td>D</td>\n",
       "      <td>STD</td>\n",
       "      <td>CECE</td>\n",
       "      <td>CECO ENVIRONMENTAL CORP</td>\n",
       "      <td>...</td>\n",
       "      <td>2.062</td>\n",
       "      <td>0</td>\n",
       "      <td>0.372</td>\n",
       "      <td>A</td>\n",
       "      <td>24.7530</td>\n",
       "      <td>3.000</td>\n",
       "      <td>3564</td>\n",
       "      <td>1.137</td>\n",
       "      <td>0.041276</td>\n",
       "      <td>0.549541</td>\n",
       "    </tr>\n",
       "    <tr>\n",
       "      <th>1</th>\n",
       "      <td>1050</td>\n",
       "      <td>12/31/1999</td>\n",
       "      <td>1999</td>\n",
       "      <td>4</td>\n",
       "      <td>INDL</td>\n",
       "      <td>C</td>\n",
       "      <td>D</td>\n",
       "      <td>STD</td>\n",
       "      <td>CECE</td>\n",
       "      <td>CECO ENVIRONMENTAL CORP</td>\n",
       "      <td>...</td>\n",
       "      <td>14.244</td>\n",
       "      <td>0</td>\n",
       "      <td>14.342</td>\n",
       "      <td>A</td>\n",
       "      <td>20.6275</td>\n",
       "      <td>2.500</td>\n",
       "      <td>3564</td>\n",
       "      <td>0.442</td>\n",
       "      <td>0.008740</td>\n",
       "      <td>0.016101</td>\n",
       "    </tr>\n",
       "    <tr>\n",
       "      <th>2</th>\n",
       "      <td>1050</td>\n",
       "      <td>12/31/2000</td>\n",
       "      <td>2000</td>\n",
       "      <td>4</td>\n",
       "      <td>INDL</td>\n",
       "      <td>C</td>\n",
       "      <td>D</td>\n",
       "      <td>STD</td>\n",
       "      <td>CECE</td>\n",
       "      <td>CECO ENVIRONMENTAL CORP</td>\n",
       "      <td>...</td>\n",
       "      <td>13.587</td>\n",
       "      <td>0</td>\n",
       "      <td>11.632</td>\n",
       "      <td>A</td>\n",
       "      <td>10.8433</td>\n",
       "      <td>1.375</td>\n",
       "      <td>3564</td>\n",
       "      <td>2.009</td>\n",
       "      <td>0.050154</td>\n",
       "      <td>0.081816</td>\n",
       "    </tr>\n",
       "    <tr>\n",
       "      <th>3</th>\n",
       "      <td>1050</td>\n",
       "      <td>12/31/2001</td>\n",
       "      <td>2001</td>\n",
       "      <td>4</td>\n",
       "      <td>INDL</td>\n",
       "      <td>C</td>\n",
       "      <td>D</td>\n",
       "      <td>STD</td>\n",
       "      <td>CECE</td>\n",
       "      <td>CECO ENVIRONMENTAL CORP</td>\n",
       "      <td>...</td>\n",
       "      <td>13.136</td>\n",
       "      <td>0</td>\n",
       "      <td>8.063</td>\n",
       "      <td>A</td>\n",
       "      <td>31.7262</td>\n",
       "      <td>3.300</td>\n",
       "      <td>3564</td>\n",
       "      <td>4.305</td>\n",
       "      <td>0.081093</td>\n",
       "      <td>0.203585</td>\n",
       "    </tr>\n",
       "    <tr>\n",
       "      <th>4</th>\n",
       "      <td>1050</td>\n",
       "      <td>12/31/2002</td>\n",
       "      <td>2002</td>\n",
       "      <td>4</td>\n",
       "      <td>INDL</td>\n",
       "      <td>C</td>\n",
       "      <td>D</td>\n",
       "      <td>STD</td>\n",
       "      <td>CECE</td>\n",
       "      <td>CECO ENVIRONMENTAL CORP</td>\n",
       "      <td>...</td>\n",
       "      <td>12.122</td>\n",
       "      <td>0</td>\n",
       "      <td>6.277</td>\n",
       "      <td>A</td>\n",
       "      <td>17.7415</td>\n",
       "      <td>1.850</td>\n",
       "      <td>3564</td>\n",
       "      <td>2.201</td>\n",
       "      <td>0.061361</td>\n",
       "      <td>0.120901</td>\n",
       "    </tr>\n",
       "  </tbody>\n",
       "</table>\n",
       "<p>5 rows × 28 columns</p>\n",
       "</div>"
      ],
      "text/plain": [
       "   gvkey    datadate  fyearq  fqtr indfmt consol popsrc datafmt   tic  \\\n",
       "0   1050  12/31/1998    1998     4   INDL      C      D     STD  CECE   \n",
       "1   1050  12/31/1999    1999     4   INDL      C      D     STD  CECE   \n",
       "2   1050  12/31/2000    2000     4   INDL      C      D     STD  CECE   \n",
       "3   1050  12/31/2001    2001     4   INDL      C      D     STD  CECE   \n",
       "4   1050  12/31/2002    2002     4   INDL      C      D     STD  CECE   \n",
       "\n",
       "                      conm    ...     ppentq pstkq   wcapq costat  mkvaltq  \\\n",
       "0  CECO ENVIRONMENTAL CORP    ...      2.062     0   0.372      A  24.7530   \n",
       "1  CECO ENVIRONMENTAL CORP    ...     14.244     0  14.342      A  20.6275   \n",
       "2  CECO ENVIRONMENTAL CORP    ...     13.587     0  11.632      A  10.8433   \n",
       "3  CECO ENVIRONMENTAL CORP    ...     13.136     0   8.063      A  31.7262   \n",
       "4  CECO ENVIRONMENTAL CORP    ...     12.122     0   6.277      A  17.7415   \n",
       "\n",
       "   prccq   sic   ebit    ratio1    ratio2  \n",
       "0  3.000  3564  1.137  0.041276  0.549541  \n",
       "1  2.500  3564  0.442  0.008740  0.016101  \n",
       "2  1.375  3564  2.009  0.050154  0.081816  \n",
       "3  3.300  3564  4.305  0.081093  0.203585  \n",
       "4  1.850  3564  2.201  0.061361  0.120901  \n",
       "\n",
       "[5 rows x 28 columns]"
      ]
     },
     "execution_count": 43,
     "metadata": {},
     "output_type": "execute_result"
    }
   ],
   "source": [
    "# our dataframe now has two additional columns: ratio1 and ratio2\n",
    "df.head()"
   ]
  },
  {
   "cell_type": "markdown",
   "metadata": {},
   "source": [
    "## 5. Ranking the companies based on calculated ratios\n",
    "### and extracting the top 20-30 companies"
   ]
  },
  {
   "cell_type": "code",
   "execution_count": 69,
   "metadata": {
    "collapsed": false
   },
   "outputs": [],
   "source": [
    "# get a sorted datafframe of the eligible companies for a given year\n",
    "# year >=1998\n",
    "# we can also specify the weights of the two ratios used to create the overall ranking\n",
    "def get_top(df, year, ratio1weight):\n",
    "    # eliminate companies that do not meet the min market cap\n",
    "    # print set_min_market_cap(df, year)\n",
    "    short_df = df[df['tic'].isin(set_min_market_cap(df, year))]\n",
    "    short_df = short_df[short_df['fyearq']==year]\n",
    "    \n",
    "    # rank the rows based on ratio1 and ratio2, with a larger ratio ==> better ranking\n",
    "    short_df['rank1'] = short_df['ratio1'].rank(ascending=False,na_option='bottom')\n",
    "    short_df['rank2'] = short_df['ratio2'].rank(ascending=False,na_option='bottom')\n",
    "    \n",
    "    # sum the two ranks based on the specified ratio1weight parameter\n",
    "    short_df['ranksum'] = ratio1weight * short_df['rank1']+ (1-ratio1weight) * short_df['rank2']\n",
    "    \n",
    "    # get the final ranking from the combined sum\n",
    "    short_df['finalrank'] = short_df['ranksum'].rank(ascending=True,na_option='bottom')\n",
    "    sorted_short = short_df.sort(columns='finalrank',ascending=True)\n",
    "    \n",
    "    # return a tuple of the sorted dataframe and the sorted list of unique tickers \n",
    "    return sorted_short, list(sorted_short.tic.unique())"
   ]
  },
  {
   "cell_type": "markdown",
   "metadata": {},
   "source": [
    "## 6. Invest in 30 highest-ranked companies\n",
    "We are simulating a 1,000,000 dollar portfolio. "
   ]
  },
  {
   "cell_type": "code",
   "execution_count": 70,
   "metadata": {
    "collapsed": false
   },
   "outputs": [
    {
     "data": {
      "text/html": [
       "<div>\n",
       "<table border=\"1\" class=\"dataframe\">\n",
       "  <thead>\n",
       "    <tr style=\"text-align: right;\">\n",
       "      <th></th>\n",
       "      <th>Unnamed: 0</th>\n",
       "      <th>PERMNO</th>\n",
       "      <th>date</th>\n",
       "      <th>SICCD</th>\n",
       "      <th>TICKER</th>\n",
       "      <th>COMNAM</th>\n",
       "      <th>PRC</th>\n",
       "      <th>CFACPR</th>\n",
       "      <th>PRCADJUST</th>\n",
       "      <th>year</th>\n",
       "    </tr>\n",
       "  </thead>\n",
       "  <tbody>\n",
       "    <tr>\n",
       "      <th>0</th>\n",
       "      <td>0</td>\n",
       "      <td>10001</td>\n",
       "      <td>1/31/90</td>\n",
       "      <td>4920</td>\n",
       "      <td>GFGC</td>\n",
       "      <td>GREAT FALLS GAS CO</td>\n",
       "      <td>-9.9375</td>\n",
       "      <td>3</td>\n",
       "      <td>29.8125</td>\n",
       "      <td>1990</td>\n",
       "    </tr>\n",
       "    <tr>\n",
       "      <th>1</th>\n",
       "      <td>1</td>\n",
       "      <td>10001</td>\n",
       "      <td>2/28/90</td>\n",
       "      <td>4920</td>\n",
       "      <td>GFGC</td>\n",
       "      <td>GREAT FALLS GAS CO</td>\n",
       "      <td>-9.8750</td>\n",
       "      <td>3</td>\n",
       "      <td>29.6250</td>\n",
       "      <td>1990</td>\n",
       "    </tr>\n",
       "    <tr>\n",
       "      <th>2</th>\n",
       "      <td>2</td>\n",
       "      <td>10001</td>\n",
       "      <td>3/30/90</td>\n",
       "      <td>4920</td>\n",
       "      <td>GFGC</td>\n",
       "      <td>GREAT FALLS GAS CO</td>\n",
       "      <td>-9.8750</td>\n",
       "      <td>3</td>\n",
       "      <td>29.6250</td>\n",
       "      <td>1990</td>\n",
       "    </tr>\n",
       "    <tr>\n",
       "      <th>3</th>\n",
       "      <td>3</td>\n",
       "      <td>10001</td>\n",
       "      <td>4/30/90</td>\n",
       "      <td>4920</td>\n",
       "      <td>GFGC</td>\n",
       "      <td>GREAT FALLS GAS CO</td>\n",
       "      <td>-9.8750</td>\n",
       "      <td>3</td>\n",
       "      <td>29.6250</td>\n",
       "      <td>1990</td>\n",
       "    </tr>\n",
       "    <tr>\n",
       "      <th>4</th>\n",
       "      <td>4</td>\n",
       "      <td>10001</td>\n",
       "      <td>5/31/90</td>\n",
       "      <td>4920</td>\n",
       "      <td>GFGC</td>\n",
       "      <td>GREAT FALLS GAS CO</td>\n",
       "      <td>9.7500</td>\n",
       "      <td>3</td>\n",
       "      <td>29.2500</td>\n",
       "      <td>1990</td>\n",
       "    </tr>\n",
       "  </tbody>\n",
       "</table>\n",
       "</div>"
      ],
      "text/plain": [
       "   Unnamed: 0  PERMNO     date SICCD TICKER              COMNAM     PRC  \\\n",
       "0           0   10001  1/31/90  4920   GFGC  GREAT FALLS GAS CO -9.9375   \n",
       "1           1   10001  2/28/90  4920   GFGC  GREAT FALLS GAS CO -9.8750   \n",
       "2           2   10001  3/30/90  4920   GFGC  GREAT FALLS GAS CO -9.8750   \n",
       "3           3   10001  4/30/90  4920   GFGC  GREAT FALLS GAS CO -9.8750   \n",
       "4           4   10001  5/31/90  4920   GFGC  GREAT FALLS GAS CO  9.7500   \n",
       "\n",
       "   CFACPR  PRCADJUST  year  \n",
       "0       3    29.8125  1990  \n",
       "1       3    29.6250  1990  \n",
       "2       3    29.6250  1990  \n",
       "3       3    29.6250  1990  \n",
       "4       3    29.2500  1990  "
      ]
     },
     "execution_count": 70,
     "metadata": {},
     "output_type": "execute_result"
    }
   ],
   "source": [
    "# monthly stock price data is downloaded from CRSP database\n",
    "prices_df=pd.read_csv(\"CRSPMonthlyPrices.csv\")\n",
    "prices_df.head()"
   ]
  },
  {
   "cell_type": "code",
   "execution_count": 71,
   "metadata": {
    "collapsed": false
   },
   "outputs": [],
   "source": [
    "if 'Unnamed: 0' in prices_df.columns:\n",
    "    prices_df.drop('Unnamed: 0', axis=1, inplace=True)\n",
    "if 'Unnamed: 0.1' in prices_df.columns:\n",
    "    prices_df.drop('Unnamed: 0.1', axis=1, inplace=True)"
   ]
  },
  {
   "cell_type": "code",
   "execution_count": 72,
   "metadata": {
    "collapsed": false
   },
   "outputs": [
    {
     "data": {
      "text/html": [
       "<div>\n",
       "<table border=\"1\" class=\"dataframe\">\n",
       "  <thead>\n",
       "    <tr style=\"text-align: right;\">\n",
       "      <th></th>\n",
       "      <th>PERMNO</th>\n",
       "      <th>date</th>\n",
       "      <th>SICCD</th>\n",
       "      <th>TICKER</th>\n",
       "      <th>COMNAM</th>\n",
       "      <th>PRC</th>\n",
       "      <th>CFACPR</th>\n",
       "      <th>PRCADJUST</th>\n",
       "      <th>year</th>\n",
       "    </tr>\n",
       "  </thead>\n",
       "  <tbody>\n",
       "    <tr>\n",
       "      <th>0</th>\n",
       "      <td>10001</td>\n",
       "      <td>1/31/90</td>\n",
       "      <td>4920</td>\n",
       "      <td>GFGC</td>\n",
       "      <td>GREAT FALLS GAS CO</td>\n",
       "      <td>-9.9375</td>\n",
       "      <td>3</td>\n",
       "      <td>29.8125</td>\n",
       "      <td>1990</td>\n",
       "    </tr>\n",
       "    <tr>\n",
       "      <th>1</th>\n",
       "      <td>10001</td>\n",
       "      <td>2/28/90</td>\n",
       "      <td>4920</td>\n",
       "      <td>GFGC</td>\n",
       "      <td>GREAT FALLS GAS CO</td>\n",
       "      <td>-9.8750</td>\n",
       "      <td>3</td>\n",
       "      <td>29.6250</td>\n",
       "      <td>1990</td>\n",
       "    </tr>\n",
       "    <tr>\n",
       "      <th>2</th>\n",
       "      <td>10001</td>\n",
       "      <td>3/30/90</td>\n",
       "      <td>4920</td>\n",
       "      <td>GFGC</td>\n",
       "      <td>GREAT FALLS GAS CO</td>\n",
       "      <td>-9.8750</td>\n",
       "      <td>3</td>\n",
       "      <td>29.6250</td>\n",
       "      <td>1990</td>\n",
       "    </tr>\n",
       "    <tr>\n",
       "      <th>3</th>\n",
       "      <td>10001</td>\n",
       "      <td>4/30/90</td>\n",
       "      <td>4920</td>\n",
       "      <td>GFGC</td>\n",
       "      <td>GREAT FALLS GAS CO</td>\n",
       "      <td>-9.8750</td>\n",
       "      <td>3</td>\n",
       "      <td>29.6250</td>\n",
       "      <td>1990</td>\n",
       "    </tr>\n",
       "    <tr>\n",
       "      <th>4</th>\n",
       "      <td>10001</td>\n",
       "      <td>5/31/90</td>\n",
       "      <td>4920</td>\n",
       "      <td>GFGC</td>\n",
       "      <td>GREAT FALLS GAS CO</td>\n",
       "      <td>9.7500</td>\n",
       "      <td>3</td>\n",
       "      <td>29.2500</td>\n",
       "      <td>1990</td>\n",
       "    </tr>\n",
       "  </tbody>\n",
       "</table>\n",
       "</div>"
      ],
      "text/plain": [
       "   PERMNO     date SICCD TICKER              COMNAM     PRC  CFACPR  \\\n",
       "0   10001  1/31/90  4920   GFGC  GREAT FALLS GAS CO -9.9375       3   \n",
       "1   10001  2/28/90  4920   GFGC  GREAT FALLS GAS CO -9.8750       3   \n",
       "2   10001  3/30/90  4920   GFGC  GREAT FALLS GAS CO -9.8750       3   \n",
       "3   10001  4/30/90  4920   GFGC  GREAT FALLS GAS CO -9.8750       3   \n",
       "4   10001  5/31/90  4920   GFGC  GREAT FALLS GAS CO  9.7500       3   \n",
       "\n",
       "   PRCADJUST  year  \n",
       "0    29.8125  1990  \n",
       "1    29.6250  1990  \n",
       "2    29.6250  1990  \n",
       "3    29.6250  1990  \n",
       "4    29.2500  1990  "
      ]
     },
     "execution_count": 72,
     "metadata": {},
     "output_type": "execute_result"
    }
   ],
   "source": [
    "prices_df.head()"
   ]
  },
  {
   "cell_type": "code",
   "execution_count": 49,
   "metadata": {
    "collapsed": true
   },
   "outputs": [],
   "source": [
    "# calculate the adjusted price for each row\n",
    "# adjusted price = absolute price * monthly cumulative adjustment factor \n",
    "# PRCADJUST = PRC * CFACPR\n",
    "def get_adjusted_price(row):\n",
    "    # some prices are negative to indicate that they are an average \n",
    "    # of bid and ask price because closing price was not available\n",
    "    # we adjust these values to be positive\n",
    "    if row['PRC']<0:\n",
    "        return -row['PRC']*row['CFACPR']\n",
    "    else: \n",
    "        return row['PRC']*row['CFACPR']"
   ]
  },
  {
   "cell_type": "code",
   "execution_count": 51,
   "metadata": {
    "collapsed": false
   },
   "outputs": [],
   "source": [
    "# add the PRCADJUST column to the dataframe\n",
    "prices_df['PRCADJUST']=prices_df.apply(get_adjusted_price,axis=1)"
   ]
  },
  {
   "cell_type": "code",
   "execution_count": 52,
   "metadata": {
    "collapsed": false
   },
   "outputs": [],
   "source": [
    "import dateutil.parser as parser\n",
    "\n",
    "# parse out the year from the date value\n",
    "def get_year(row):\n",
    "    return parser.parse(row['date']).year\n",
    "\n",
    "# add the year column to the dataframe\n",
    "prices_df['year']=prices_df.apply(get_year,axis=1)"
   ]
  },
  {
   "cell_type": "code",
   "execution_count": 73,
   "metadata": {
    "collapsed": false
   },
   "outputs": [],
   "source": [
    "# drop rows with missing PRCADJUST values\n",
    "prices_df=prices_df[~np.isnan(prices_df['PRCADJUST'])]\n",
    "\n",
    "# save the dataframe to a CSV\n",
    "prices_df.to_csv(\"CRSPMonthlyPrices.csv\")"
   ]
  },
  {
   "cell_type": "code",
   "execution_count": 151,
   "metadata": {
    "collapsed": false
   },
   "outputs": [],
   "source": [
    "def simulate_year(year,ratio1weight,timespan):\n",
    "    stock_list=get_top(df,year,ratio1weight)[1]\n",
    "    # limit the total number of stock positions that will be acquired\n",
    "    TOTALNUMSTOCKS=30\n",
    "    \n",
    "    # set a default portfolio size of one million dollars (we wish!!!! )\n",
    "    portfolio_size=1000000\n",
    "    \n",
    "    # distribute the portfolio size equally amongst the 30 stocks\n",
    "    amount_per_stock=portfolio_size/TOTALNUMSTOCKS\n",
    "\n",
    "    # keep track of the number of stocks we have purchased \n",
    "    num_stocks=0\n",
    "    \n",
    "    # accumulating total change in our portfolio amount\n",
    "    total_change=0\n",
    "    \n",
    "    # for each stock, we want \n",
    "    # quantity of stock purchased at end of Jan * (change in value over year)     \n",
    "    for stock in stock_list:\n",
    "        stock_prices= prices_df[prices_df['TICKER']==stock]\n",
    "        stock_prices=stock_prices[stock_prices['year']>=year]\n",
    "        stock_prices=stock_prices[stock_prices['year']<year+timespan]\n",
    "        # check that we have data from this specific stock and year\n",
    "        if len(stock_prices)!=0 and stock_prices.head(1).PRCADJUST.values[0] != 0:             \n",
    "            # price at beginning of year \n",
    "            start_price=stock_prices.head(1).PRCADJUST.values[0] \n",
    "            \n",
    "            # price at ending of year \n",
    "            end_price=stock_prices.tail(1).PRCADJUST.values[0]\n",
    "            \n",
    "            # total number of shares purchased with allocated amount at start_price\n",
    "            shares_purchased = amount_per_stock/start_price \n",
    "            \n",
    "            # change in value of each share over year\n",
    "            change_over_year= end_price-start_price\n",
    "            \n",
    "            # accumulate total change\n",
    "            total_change = total_change+shares_purchased*change_over_year\n",
    "\n",
    "            num_stocks=num_stocks+1\n",
    "            if num_stocks>TOTALNUMSTOCKS:\n",
    "                break\n",
    "    return portfolio_size+total_change"
   ]
  },
  {
   "cell_type": "code",
   "execution_count": 139,
   "metadata": {
    "collapsed": false
   },
   "outputs": [
    {
     "name": "stdout",
     "output_type": "stream",
     "text": [
      "CPU times: user 7min 47s, sys: 7.03 s, total: 7min 54s\n",
      "Wall time: 7min 54s\n"
     ]
    }
   ],
   "source": [
    "%%time\n",
    "# perform a basic cross-validation across the years and different ratio weights\n",
    "d={} # dict keyed by year with returns for that year with different ratioweight values \n",
    "for year in range(1998,2015):\n",
    "    d[year]=[]\n",
    "    for ratio in [0.125,0.25,0.375,0.5,0.625,0.75,0.875]:\n",
    "        d[year].append(simulate_year(year, ratio,1))"
   ]
  },
  {
   "cell_type": "code",
   "execution_count": 179,
   "metadata": {
    "collapsed": false
   },
   "outputs": [],
   "source": [
    "ratios=[0.125,0.25,0.375,0.5,0.625,0.75,0.875]\n",
    "pd.DataFrame(d,index=ratios).to_csv('OneYearPortfolios.csv')"
   ]
  },
  {
   "cell_type": "code",
   "execution_count": 181,
   "metadata": {
    "collapsed": false
   },
   "outputs": [],
   "source": [
    "# dict keyed by ratio weight with returns for each year using that specific ratioweight\n",
    "d_by_ratio={}\n",
    "for ratio in ratios: \n",
    "    d_by_ratio[ratio]=[]\n",
    "    i=0\n",
    "    for year in range(1998,2015):\n",
    "        d_by_ratio[ratio].append(d[year][i])\n",
    "    i=i+1\n"
   ]
  },
  {
   "cell_type": "markdown",
   "metadata": {},
   "source": [
    "## 7. Re-invest portfolio and adjust positions"
   ]
  },
  {
   "cell_type": "code",
   "execution_count": 155,
   "metadata": {
    "collapsed": false
   },
   "outputs": [],
   "source": [
    "# very similar to simulate_year, except now we can specific the starting portfolio size\n",
    "def simulate_year_recursive(portfolio_size, year,ratio1weight):\n",
    "    stock_list=get_top(df,year,ratio1weight)[1]\n",
    "    TOTALNUMSTOCKS=30\n",
    "    \n",
    "    amount_per_stock=portfolio_size/TOTALNUMSTOCKS \n",
    "    num_stocks=0\n",
    "    total_change=0\n",
    "    for stock in stock_list:\n",
    "        stock_prices= prices_df[prices_df['TICKER']==stock]\n",
    "        stock_prices=stock_prices[stock_prices['year']==year]\n",
    "        # stock_prices=stock_prices[stock_prices['year']<year+timespan]\n",
    "        # check that we have data from this specific stock and year\n",
    "        if len(stock_prices)!=0 and stock_prices.head(1).PRCADJUST.values[0] != 0:             \n",
    "            # price at beginning of year \n",
    "            start_price=stock_prices.head(1).PRCADJUST.values[0] \n",
    "            \n",
    "            # price at ending of year \n",
    "            end_price=stock_prices.tail(1).PRCADJUST.values[0]\n",
    "            \n",
    "            # total number of shares purchased with allocated amount at start_price\n",
    "            shares_purchased = amount_per_stock/start_price \n",
    "            \n",
    "            # change in value of each share over year\n",
    "            change_over_year= end_price-start_price\n",
    "            \n",
    "            # accumulate total change\n",
    "            total_change = total_change+shares_purchased*change_over_year\n",
    "\n",
    "            num_stocks=num_stocks+1\n",
    "            if num_stocks>TOTALNUMSTOCKS:\n",
    "                break\n",
    "    return portfolio_size+total_change"
   ]
  },
  {
   "cell_type": "code",
   "execution_count": 159,
   "metadata": {
    "collapsed": false
   },
   "outputs": [
    {
     "name": "stdout",
     "output_type": "stream",
     "text": [
      "CPU times: user 4min 5s, sys: 3.26 s, total: 4min 9s\n",
      "Wall time: 4min 9s\n"
     ]
    }
   ],
   "source": [
    "%%time\n",
    "startyear=2000\n",
    "endyear=2010\n",
    "\n",
    "# simulate portfolios held over 10 years using different ratioweights\n",
    "long_term_port_by_ratio={}\n",
    "for ratio in ratios: \n",
    "    long_term_port_by_ratio[ratio]=[simulate_year_recursive(1000000,startyear,ratio)]\n",
    "    for i in range(startyear+1,endyear): \n",
    "        long_term_port_by_ratio[ratio].append(simulate_year_recursive(yearly_returns[i-startyear],i,ratio))\n"
   ]
  },
  {
   "cell_type": "code",
   "execution_count": 180,
   "metadata": {
    "collapsed": false
   },
   "outputs": [],
   "source": [
    "pd.DataFrame(long_term_port_by_ratio,index=range(startyear,endyear)).to_csv('LongTermPortfolios.csv')"
   ]
  }
 ],
 "metadata": {
  "kernelspec": {
   "display_name": "Python 2",
   "language": "python",
   "name": "python2"
  },
  "language_info": {
   "codemirror_mode": {
    "name": "ipython",
    "version": 2
   },
   "file_extension": ".py",
   "mimetype": "text/x-python",
   "name": "python",
   "nbconvert_exporter": "python",
   "pygments_lexer": "ipython2",
   "version": "2.7.10"
  }
 },
 "nbformat": 4,
 "nbformat_minor": 0
}
