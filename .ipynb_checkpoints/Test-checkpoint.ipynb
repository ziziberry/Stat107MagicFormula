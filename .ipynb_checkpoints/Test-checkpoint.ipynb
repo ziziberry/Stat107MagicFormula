{
 "cells": [
  {
   "cell_type": "markdown",
   "metadata": {},
   "source": [
    "# Magic Formula Investing: Implementation and Simulation Using Python"
   ]
  },
  {
   "cell_type": "markdown",
   "metadata": {},
   "source": [
    "## Cleaning the Data"
   ]
  },
  {
   "cell_type": "code",
   "execution_count": 1,
   "metadata": {
    "collapsed": true
   },
   "outputs": [],
   "source": [
    "# importing packages that are used throughout the code\n",
    "import math\n",
    "import numpy as np\n",
    "import pandas as pd\n",
    "\n",
    "import matplotlib.pyplot as plt\n",
    "\n",
    "from matplotlib import rcParams"
   ]
  },
  {
   "cell_type": "code",
   "execution_count": 2,
   "metadata": {
    "collapsed": false
   },
   "outputs": [
    {
     "name": "stdout",
     "output_type": "stream",
     "text": [
      "512530 140522\n"
     ]
    },
    {
     "data": {
      "text/html": [
       "<div>\n",
       "<table border=\"1\" class=\"dataframe\">\n",
       "  <thead>\n",
       "    <tr style=\"text-align: right;\">\n",
       "      <th></th>\n",
       "      <th>gvkey</th>\n",
       "      <th>datadate</th>\n",
       "      <th>fyearq</th>\n",
       "      <th>fqtr</th>\n",
       "      <th>indfmt</th>\n",
       "      <th>consol</th>\n",
       "      <th>popsrc</th>\n",
       "      <th>datafmt</th>\n",
       "      <th>tic</th>\n",
       "      <th>conm</th>\n",
       "      <th>...</th>\n",
       "      <th>cstkq</th>\n",
       "      <th>dlcq</th>\n",
       "      <th>dlttq</th>\n",
       "      <th>ppentq</th>\n",
       "      <th>pstkq</th>\n",
       "      <th>wcapq</th>\n",
       "      <th>costat</th>\n",
       "      <th>mkvaltq</th>\n",
       "      <th>prccq</th>\n",
       "      <th>sic</th>\n",
       "    </tr>\n",
       "  </thead>\n",
       "  <tbody>\n",
       "    <tr>\n",
       "      <th>0</th>\n",
       "      <td>1004</td>\n",
       "      <td>02/28/1990</td>\n",
       "      <td>1989</td>\n",
       "      <td>3</td>\n",
       "      <td>INDL</td>\n",
       "      <td>C</td>\n",
       "      <td>D</td>\n",
       "      <td>STD</td>\n",
       "      <td>AIR</td>\n",
       "      <td>AAR CORP</td>\n",
       "      <td>...</td>\n",
       "      <td>16.070</td>\n",
       "      <td>32.551</td>\n",
       "      <td>72.606</td>\n",
       "      <td>53.428</td>\n",
       "      <td>0</td>\n",
       "      <td>188.100</td>\n",
       "      <td>A</td>\n",
       "      <td>NaN</td>\n",
       "      <td>31.125</td>\n",
       "      <td>5080</td>\n",
       "    </tr>\n",
       "    <tr>\n",
       "      <th>1</th>\n",
       "      <td>1004</td>\n",
       "      <td>05/31/1990</td>\n",
       "      <td>1989</td>\n",
       "      <td>4</td>\n",
       "      <td>INDL</td>\n",
       "      <td>C</td>\n",
       "      <td>D</td>\n",
       "      <td>STD</td>\n",
       "      <td>AIR</td>\n",
       "      <td>AAR CORP</td>\n",
       "      <td>...</td>\n",
       "      <td>16.082</td>\n",
       "      <td>33.821</td>\n",
       "      <td>72.329</td>\n",
       "      <td>63.441</td>\n",
       "      <td>0</td>\n",
       "      <td>184.932</td>\n",
       "      <td>A</td>\n",
       "      <td>NaN</td>\n",
       "      <td>21.250</td>\n",
       "      <td>5080</td>\n",
       "    </tr>\n",
       "    <tr>\n",
       "      <th>2</th>\n",
       "      <td>1004</td>\n",
       "      <td>08/31/1990</td>\n",
       "      <td>1990</td>\n",
       "      <td>1</td>\n",
       "      <td>INDL</td>\n",
       "      <td>C</td>\n",
       "      <td>D</td>\n",
       "      <td>STD</td>\n",
       "      <td>AIR</td>\n",
       "      <td>AAR CORP</td>\n",
       "      <td>...</td>\n",
       "      <td>16.086</td>\n",
       "      <td>27.427</td>\n",
       "      <td>71.806</td>\n",
       "      <td>63.545</td>\n",
       "      <td>0</td>\n",
       "      <td>189.351</td>\n",
       "      <td>A</td>\n",
       "      <td>NaN</td>\n",
       "      <td>15.875</td>\n",
       "      <td>5080</td>\n",
       "    </tr>\n",
       "    <tr>\n",
       "      <th>3</th>\n",
       "      <td>1004</td>\n",
       "      <td>11/30/1990</td>\n",
       "      <td>1990</td>\n",
       "      <td>2</td>\n",
       "      <td>INDL</td>\n",
       "      <td>C</td>\n",
       "      <td>D</td>\n",
       "      <td>STD</td>\n",
       "      <td>AIR</td>\n",
       "      <td>AAR CORP</td>\n",
       "      <td>...</td>\n",
       "      <td>16.086</td>\n",
       "      <td>33.563</td>\n",
       "      <td>71.769</td>\n",
       "      <td>63.075</td>\n",
       "      <td>0</td>\n",
       "      <td>186.955</td>\n",
       "      <td>A</td>\n",
       "      <td>NaN</td>\n",
       "      <td>11.875</td>\n",
       "      <td>5080</td>\n",
       "    </tr>\n",
       "    <tr>\n",
       "      <th>4</th>\n",
       "      <td>1004</td>\n",
       "      <td>02/28/1991</td>\n",
       "      <td>1990</td>\n",
       "      <td>3</td>\n",
       "      <td>INDL</td>\n",
       "      <td>C</td>\n",
       "      <td>D</td>\n",
       "      <td>STD</td>\n",
       "      <td>AIR</td>\n",
       "      <td>AAR CORP</td>\n",
       "      <td>...</td>\n",
       "      <td>16.097</td>\n",
       "      <td>11.436</td>\n",
       "      <td>69.020</td>\n",
       "      <td>63.626</td>\n",
       "      <td>0</td>\n",
       "      <td>184.665</td>\n",
       "      <td>A</td>\n",
       "      <td>NaN</td>\n",
       "      <td>12.875</td>\n",
       "      <td>5080</td>\n",
       "    </tr>\n",
       "  </tbody>\n",
       "</table>\n",
       "<p>5 rows × 25 columns</p>\n",
       "</div>"
      ],
      "text/plain": [
       "   gvkey    datadate  fyearq  fqtr indfmt consol popsrc datafmt  tic  \\\n",
       "0   1004  02/28/1990    1989     3   INDL      C      D     STD  AIR   \n",
       "1   1004  05/31/1990    1989     4   INDL      C      D     STD  AIR   \n",
       "2   1004  08/31/1990    1990     1   INDL      C      D     STD  AIR   \n",
       "3   1004  11/30/1990    1990     2   INDL      C      D     STD  AIR   \n",
       "4   1004  02/28/1991    1990     3   INDL      C      D     STD  AIR   \n",
       "\n",
       "       conm  ...    cstkq    dlcq   dlttq  ppentq  pstkq    wcapq  costat  \\\n",
       "0  AAR CORP  ...   16.070  32.551  72.606  53.428      0  188.100       A   \n",
       "1  AAR CORP  ...   16.082  33.821  72.329  63.441      0  184.932       A   \n",
       "2  AAR CORP  ...   16.086  27.427  71.806  63.545      0  189.351       A   \n",
       "3  AAR CORP  ...   16.086  33.563  71.769  63.075      0  186.955       A   \n",
       "4  AAR CORP  ...   16.097  11.436  69.020  63.626      0  184.665       A   \n",
       "\n",
       "   mkvaltq   prccq   sic  \n",
       "0      NaN  31.125  5080  \n",
       "1      NaN  21.250  5080  \n",
       "2      NaN  15.875  5080  \n",
       "3      NaN  11.875  5080  \n",
       "4      NaN  12.875  5080  \n",
       "\n",
       "[5 rows x 25 columns]"
      ]
     },
     "execution_count": 2,
     "metadata": {},
     "output_type": "execute_result"
    }
   ],
   "source": [
    "# importing our raw data and viewing a tiny subset of it \n",
    "\n",
    "# df containly quarterly company fundamentals, such as debt, cash, PPE, etc\n",
    "# does not contain EBIT, which is crucial to our calculations\n",
    "df=pd.read_csv(\"QuarterlyRawDataNoEBIT.csv\")\n",
    "\n",
    "# the database only offers EBIT on an annual basis, so ebit_df \n",
    "# contains annual data for each company's EBIT \n",
    "ebit_df=pd.read_csv(\"AnnualRawInputData.csv\")\n",
    "print len(df), len(ebit_df)\n",
    "df.head()"
   ]
  },
  {
   "cell_type": "code",
   "execution_count": 3,
   "metadata": {
    "collapsed": false
   },
   "outputs": [
    {
     "name": "stdout",
     "output_type": "stream",
     "text": [
      "487706 124596\n"
     ]
    }
   ],
   "source": [
    "# trimming data for years past 2014\n",
    "df=df[df['fyearq']<2015]\n",
    "ebit_df=ebit_df[ebit_df['fyear']<2015]\n",
    "\n",
    "# eliminating duplicate data that is double-listed under FS and INDL \n",
    "ebit_df=ebit_df[ebit_df['indfmt']!=\"FS\"]\n",
    "\n",
    "# the length of both dataframes should be shortening\n",
    "print len(df), len(ebit_df)"
   ]
  },
  {
   "cell_type": "code",
   "execution_count": 4,
   "metadata": {
    "collapsed": false
   },
   "outputs": [
    {
     "name": "stdout",
     "output_type": "stream",
     "text": [
      "350463 87305\n"
     ]
    }
   ],
   "source": [
    "# extracting the companies that have missing EBIT values\n",
    "missing_ebit_tics=ebit_df[ebit_df['ebit'].isnull()].tic.unique()\n",
    "\n",
    "# removing those companies from our datasets \n",
    "df = df[~df.tic.isin(missing_ebit_tics)]\n",
    "ebit_df = ebit_df[~ebit_df.tic.isin(missing_ebit_tics)]\n",
    "\n",
    "# the length of both dataframes should be shortening\n",
    "print len(df), len(ebit_df)"
   ]
  },
  {
   "cell_type": "code",
   "execution_count": 5,
   "metadata": {
    "collapsed": true
   },
   "outputs": [],
   "source": [
    "# function to get the appropriate annual EBIT value for each row in the quarterly dataframe\n",
    "def get_row_ebit(row):\n",
    "    ebit_row = ebit_df[ebit_df['fyear']==row['fyearq']]\n",
    "    ebit_row = ebit_row[ebit_row['tic']== row['tic']]\n",
    "    if ebit_row['ebit'].empty:\n",
    "        return 0\n",
    "    else: \n",
    "        return float(ebit_row['ebit'])"
   ]
  },
  {
   "cell_type": "code",
   "execution_count": null,
   "metadata": {
    "collapsed": true
   },
   "outputs": [],
   "source": [
    "%%time \n",
    "# takes a while to run so don't run this every time\n",
    "# the edited CSVs have been saved and can be loaded in separately \n",
    "df['ebit']=df.apply(get_row_ebit,axis=1)"
   ]
  },
  {
   "cell_type": "code",
   "execution_count": 9,
   "metadata": {
    "collapsed": true
   },
   "outputs": [],
   "source": [
    "# function to get the appropriate annual cash values for \n",
    "# rows with missing cash values in the quarterly dataframe\n",
    "# quarterly cash values are generally missing before 2007\n",
    "def get_row_cash(row):\n",
    "    if math.isnan(row['chq']):\n",
    "        cash_row = ebit_df[ebit_df['datadate']==row['datadate']]\n",
    "        cash_row = cash_row[cash_row['tic']==row['tic']]\n",
    "        if cash_row['ch'].empty:\n",
    "            return float('NaN')\n",
    "        else: \n",
    "            return float(cash_row['ch'])\n",
    "    else: \n",
    "        return row['chq']    "
   ]
  },
  {
   "cell_type": "code",
   "execution_count": null,
   "metadata": {
    "collapsed": true
   },
   "outputs": [],
   "source": [
    "%%time\n",
    "# also takes around 10-15 minutes\n",
    "df['chq']=df.apply(get_row_cash,axis=1)"
   ]
  },
  {
   "cell_type": "code",
   "execution_count": null,
   "metadata": {
    "collapsed": true
   },
   "outputs": [],
   "source": [
    "df.head()"
   ]
  },
  {
   "cell_type": "code",
   "execution_count": null,
   "metadata": {
    "collapsed": true
   },
   "outputs": [],
   "source": [
    "# dropping the rows that still have missing cash values in the quarterly dataset\n",
    "df=df[~np.isnan(df['chq'])]\n",
    "\n",
    "# export to CSV so we don't have to rerun the cleaning and get_row_ebit functions everytime\n",
    "df.to_csv(\"CleanedQuarterlyEBITCash.csv\")\n",
    "ebit_df.to_csv(\"CleanedAnnualEBIT.csv\")"
   ]
  },
  {
   "cell_type": "markdown",
   "metadata": {},
   "source": [
    "# Start here to avoid running data-cleaning code above\n",
    "## which takes ~30 minutes"
   ]
  },
  {
   "cell_type": "code",
   "execution_count": null,
   "metadata": {
    "collapsed": true
   },
   "outputs": [],
   "source": [
    "# re-read in the cleaned dataframes\n",
    "df=pd.read_csv(\"CleanedQuarterlyEBITCash.csv\")\n",
    "ebit_df=pd.read_csv(\"CleanedAnnualEBIT.csv\")\n",
    "\n",
    "# drop the index column that gets added mysteriously during exporting\n",
    "df=df.drop(['Unnamed: 0'],axis=1)\n",
    "ebit_df=ebit_df.drop(['Unnamed: 0'], axis=1)"
   ]
  },
  {
   "cell_type": "markdown",
   "metadata": {},
   "source": [
    "## 1. Establish minimum market capitalization value of 50M\n",
    "\n",
    "#### Filter out companies that do not meet this minimum"
   ]
  },
  {
   "cell_type": "code",
   "execution_count": null,
   "metadata": {
    "collapsed": true
   },
   "outputs": [],
   "source": [
    "# we write a function here that will be used later once the year of simulation is determined\n",
    "def set_min_market_cap(df, year):\n",
    "    df_for_year = df[df['year']==year]\n",
    "    df_for_year = df_for_year[df_for_year['mkvaltq']>50] \n",
    "    return list(df_for_year['tic'])"
   ]
  },
  {
   "cell_type": "markdown",
   "metadata": {},
   "source": [
    "## 2. Excluding utility and financial companies"
   ]
  },
  {
   "cell_type": "code",
   "execution_count": null,
   "metadata": {
    "collapsed": true
   },
   "outputs": [],
   "source": [
    "# remove SIC Division H Companies: Finance, Insurance, and Real Estate\n",
    "# https://www.osha.gov/pls/imis/sic_manual.html\n",
    "df_below_6000=df[df['sic']<6000]\n",
    "df_above_7000=df[df['sic']>=7000]\n",
    "\n",
    "df=pd.concat([df_below_6000,df_above_7000])\n",
    "\n",
    "# still shortening\n",
    "print len(df), len(ebit_df)"
   ]
  },
  {
   "cell_type": "code",
   "execution_count": null,
   "metadata": {
    "collapsed": true
   },
   "outputs": [],
   "source": [
    "# remove SIC Division E Companies: Transportation, Communications, Electric, Gas, and Sanitary Services\n",
    "# https://www.osha.gov/pls/imis/sic_manual.html\n",
    "df_below_4000=df[df['sic']<4000]\n",
    "df_above_5000=df[df['sic']>=5000]\n",
    "\n",
    "df=pd.concat([df_below_4000,df_above_5000])\n",
    "\n",
    "# still shortening\n",
    "print len(df), len(ebit_df)"
   ]
  },
  {
   "cell_type": "markdown",
   "metadata": {},
   "source": [
    "## 3. Calculating Earnings Yield: EBIT/EV"
   ]
  },
  {
   "cell_type": "code",
   "execution_count": null,
   "metadata": {
    "collapsed": true
   },
   "outputs": [],
   "source": [
    "# basic function to calculate ratio 1 across a row\n",
    "# ratio 1 = EBIT / EV\n",
    "# EBIT = earnings before interest and taxes, after subtracting depreciation and amortization\n",
    "# EV = enterprise value = market cap + debt - cash\n",
    "# EV = MKVALTQ + DTQ - CHQ\n",
    "# MKVALTQ = market cap = value of preferred stock + value of common stock\n",
    "# MKVALTQ = PSTKQ + CSTKQ \n",
    "# DTQ = debt = long-term debt + net current debt\n",
    "# DTQ = DLTTQ + DLCQ\n",
    "# CHQ = cash\n",
    "# ratio 1 = EBIT / (MKVALTQ + DLCQ + DLTTQ - CHQ)\n",
    "def ratio_one(row):\n",
    "    if math.isnan(row['pstkq']) or math.isnan(row['cstkq']) or math.isnan(row['dlcq']) or math.isnan(row['dlttq']) or math.isnan(row['chq']) or (row['pstkq']+row['cstkq']+row['dlcq']+row['dlttq']-row['chq'])==0: \n",
    "        ratio = float('NaN')\n",
    "    else: \n",
    "        # ratio=row['ebit']/(row['mkvaltq']+row['dlcq']+row['dlttq']-row['chq'])\n",
    "        ratio=row['ebit']/(row['pstkq']+row['cstkq']+row['dlcq']+row['dlttq']-row['chq'])\n",
    "    return ratio"
   ]
  },
  {
   "cell_type": "code",
   "execution_count": null,
   "metadata": {
    "collapsed": true
   },
   "outputs": [],
   "source": [
    "%%time\n",
    "# add the ratio1 column to the dataframe\n",
    "df['ratio1']=df.apply(ratio_one,axis=1)"
   ]
  },
  {
   "cell_type": "markdown",
   "metadata": {},
   "source": [
    "## 4. Calculating Return on Capital: EBIT/(NFA + NWC)"
   ]
  },
  {
   "cell_type": "code",
   "execution_count": null,
   "metadata": {
    "collapsed": true
   },
   "outputs": [],
   "source": [
    "# basic function to calculate ratio 2 across a row\n",
    "# ratio 2 = EBIT / (NFA + NWC)\n",
    "# EBIT = earnings before interest and taxes, after subtracting depreciation and amortization\n",
    "# NFA = net fixed assets = net book value of Property Plant and Equipment (PPENTQ)\n",
    "# NMW = net working capital = working capital - cash = WCAPQ - CHQ\n",
    "def ratio_two(row):\n",
    "    if math.isnan(row['ppentq']) or math.isnan(row['wcapq']) or math.isnan(row['chq']) or row['ppentq']+row['wcapq']-row['chq']==0:\n",
    "        ratio = float('NaN')\n",
    "    else: \n",
    "        ratio=row['ebit']/(row['ppentq']+row['wcapq']-row['chq'])\n",
    "    return ratio"
   ]
  },
  {
   "cell_type": "code",
   "execution_count": null,
   "metadata": {
    "collapsed": true
   },
   "outputs": [],
   "source": [
    "%%time\n",
    "# add the ratio2 column to the dataframe\n",
    "df['ratio2']=df.apply(ratio_two,axis=1)"
   ]
  },
  {
   "cell_type": "code",
   "execution_count": null,
   "metadata": {
    "collapsed": true
   },
   "outputs": [],
   "source": [
    "plt.hist(df['ratio1'])"
   ]
  },
  {
   "cell_type": "markdown",
   "metadata": {},
   "source": [
    "## 5. Ranking the companies based on calculated ratios\n",
    "### and extracting the top 20-30 companies"
   ]
  },
  {
   "cell_type": "code",
   "execution_count": null,
   "metadata": {
    "collapsed": true
   },
   "outputs": [],
   "source": [
    "def get_top(df, year, ratio1weight):\n",
    "    # eliminate companies that do not meet the min market cap\n",
    "    short_df = df[df['tic'] in set_min_market_cap(df, year)]\n",
    "    \n",
    "    # rank the rows based on ratio1 and ratio2, with a larger ratio ==> better ranking\n",
    "    short_df['rank1'] = short_df['ratio1'].rank(ascending=False,na_option='bottom')\n",
    "    short_df['rank2'] = short_df['ratio2'].rank(ascending=False,na_option='bottom')\n",
    "    short_df['ranksum'] = short_df['rank1']+short_df['rank2']\n",
    "    short_df['finalrank'] = short_df['ranksum'].rank(ascending=True,na_option='bottom')\n",
    "    \n",
    "    # get a list of the top tickers that we should invest in\n",
    "    top_tickers = list(short_df[short_df['finalrank']<=35].tic.unique())\n",
    "    return top_tickers\n",
    "\n"
   ]
  },
  {
   "cell_type": "markdown",
   "metadata": {},
   "source": []
  }
 ],
 "metadata": {
  "kernelspec": {
   "display_name": "Python 2",
   "language": "python",
   "name": "python2"
  },
  "language_info": {
   "codemirror_mode": {
    "name": "ipython",
    "version": 2
   },
   "file_extension": ".py",
   "mimetype": "text/x-python",
   "name": "python",
   "nbconvert_exporter": "python",
   "pygments_lexer": "ipython2",
   "version": "2.7.10"
  }
 },
 "nbformat": 4,
 "nbformat_minor": 0
}
