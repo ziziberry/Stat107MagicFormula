{
 "cells": [
  {
   "cell_type": "markdown",
   "metadata": {},
   "source": [
    "# Magic Formula Investing: Implementation and Simulation"
   ]
  },
  {
   "cell_type": "markdown",
   "metadata": {},
   "source": [
    "## Implementation in Python"
   ]
  },
  {
   "cell_type": "code",
   "execution_count": 1,
   "metadata": {
    "collapsed": false
   },
   "outputs": [],
   "source": [
    "# importing packages\n",
    "# import sys\n",
    "# print sys.version\n",
    "import math\n",
    "import numpy as np\n",
    "import pandas as pd\n",
    "import scipy.stats as stats\n",
    "import matplotlib.pyplot as plt\n",
    "import sklearn\n",
    "import statsmodels.api as sm\n",
    "\n",
    "import seaborn as sns\n",
    "sns.set_style(\"whitegrid\")\n",
    "sns.set_context(\"poster\")\n",
    "\n",
    "# special matplotlib argument for improved plots\n",
    "from matplotlib import rcParams"
   ]
  },
  {
   "cell_type": "code",
   "execution_count": 2,
   "metadata": {
    "collapsed": true
   },
   "outputs": [],
   "source": [
    "df=pd.read_csv(\"Annual1990-2015.csv\")"
   ]
  },
  {
   "cell_type": "code",
   "execution_count": 3,
   "metadata": {
    "collapsed": false
   },
   "outputs": [
    {
     "data": {
      "text/html": [
       "<div>\n",
       "<table border=\"1\" class=\"dataframe\">\n",
       "  <thead>\n",
       "    <tr style=\"text-align: right;\">\n",
       "      <th></th>\n",
       "      <th>gvkey</th>\n",
       "      <th>datadate</th>\n",
       "      <th>fyear</th>\n",
       "      <th>indfmt</th>\n",
       "      <th>consol</th>\n",
       "      <th>popsrc</th>\n",
       "      <th>datafmt</th>\n",
       "      <th>tic</th>\n",
       "      <th>cusip</th>\n",
       "      <th>conm</th>\n",
       "      <th>...</th>\n",
       "      <th>cstk</th>\n",
       "      <th>dlc</th>\n",
       "      <th>dltt</th>\n",
       "      <th>ebit</th>\n",
       "      <th>ppent</th>\n",
       "      <th>pstk</th>\n",
       "      <th>wcap</th>\n",
       "      <th>costat</th>\n",
       "      <th>mkvalt</th>\n",
       "      <th>sic</th>\n",
       "    </tr>\n",
       "  </thead>\n",
       "  <tbody>\n",
       "    <tr>\n",
       "      <th>0</th>\n",
       "      <td>1004</td>\n",
       "      <td>5/31/90</td>\n",
       "      <td>1989</td>\n",
       "      <td>INDL</td>\n",
       "      <td>C</td>\n",
       "      <td>D</td>\n",
       "      <td>STD</td>\n",
       "      <td>AIR</td>\n",
       "      <td>361105</td>\n",
       "      <td>AAR CORP</td>\n",
       "      <td>...</td>\n",
       "      <td>16.082</td>\n",
       "      <td>33.821</td>\n",
       "      <td>72.329</td>\n",
       "      <td>46.851</td>\n",
       "      <td>63.441</td>\n",
       "      <td>0</td>\n",
       "      <td>184.932</td>\n",
       "      <td>A</td>\n",
       "      <td>NaN</td>\n",
       "      <td>5080</td>\n",
       "    </tr>\n",
       "    <tr>\n",
       "      <th>1</th>\n",
       "      <td>1004</td>\n",
       "      <td>5/31/91</td>\n",
       "      <td>1990</td>\n",
       "      <td>INDL</td>\n",
       "      <td>C</td>\n",
       "      <td>D</td>\n",
       "      <td>STD</td>\n",
       "      <td>AIR</td>\n",
       "      <td>361105</td>\n",
       "      <td>AAR CORP</td>\n",
       "      <td>...</td>\n",
       "      <td>16.097</td>\n",
       "      <td>16.500</td>\n",
       "      <td>68.953</td>\n",
       "      <td>33.701</td>\n",
       "      <td>63.415</td>\n",
       "      <td>0</td>\n",
       "      <td>189.172</td>\n",
       "      <td>A</td>\n",
       "      <td>NaN</td>\n",
       "      <td>5080</td>\n",
       "    </tr>\n",
       "    <tr>\n",
       "      <th>2</th>\n",
       "      <td>1004</td>\n",
       "      <td>5/31/92</td>\n",
       "      <td>1991</td>\n",
       "      <td>INDL</td>\n",
       "      <td>C</td>\n",
       "      <td>D</td>\n",
       "      <td>STD</td>\n",
       "      <td>AIR</td>\n",
       "      <td>361105</td>\n",
       "      <td>AAR CORP</td>\n",
       "      <td>...</td>\n",
       "      <td>16.105</td>\n",
       "      <td>25.005</td>\n",
       "      <td>67.323</td>\n",
       "      <td>26.530</td>\n",
       "      <td>60.422</td>\n",
       "      <td>0</td>\n",
       "      <td>197.246</td>\n",
       "      <td>A</td>\n",
       "      <td>NaN</td>\n",
       "      <td>5080</td>\n",
       "    </tr>\n",
       "    <tr>\n",
       "      <th>3</th>\n",
       "      <td>1004</td>\n",
       "      <td>5/31/93</td>\n",
       "      <td>1992</td>\n",
       "      <td>INDL</td>\n",
       "      <td>C</td>\n",
       "      <td>D</td>\n",
       "      <td>STD</td>\n",
       "      <td>AIR</td>\n",
       "      <td>361105</td>\n",
       "      <td>AAR CORP</td>\n",
       "      <td>...</td>\n",
       "      <td>16.205</td>\n",
       "      <td>25.025</td>\n",
       "      <td>66.298</td>\n",
       "      <td>16.343</td>\n",
       "      <td>56.052</td>\n",
       "      <td>0</td>\n",
       "      <td>193.399</td>\n",
       "      <td>A</td>\n",
       "      <td>NaN</td>\n",
       "      <td>5080</td>\n",
       "    </tr>\n",
       "    <tr>\n",
       "      <th>4</th>\n",
       "      <td>1004</td>\n",
       "      <td>5/31/94</td>\n",
       "      <td>1993</td>\n",
       "      <td>INDL</td>\n",
       "      <td>C</td>\n",
       "      <td>D</td>\n",
       "      <td>STD</td>\n",
       "      <td>AIR</td>\n",
       "      <td>361105</td>\n",
       "      <td>AAR CORP</td>\n",
       "      <td>...</td>\n",
       "      <td>16.215</td>\n",
       "      <td>0.568</td>\n",
       "      <td>115.729</td>\n",
       "      <td>21.824</td>\n",
       "      <td>54.783</td>\n",
       "      <td>0</td>\n",
       "      <td>240.009</td>\n",
       "      <td>A</td>\n",
       "      <td>NaN</td>\n",
       "      <td>5080</td>\n",
       "    </tr>\n",
       "  </tbody>\n",
       "</table>\n",
       "<p>5 rows × 22 columns</p>\n",
       "</div>"
      ],
      "text/plain": [
       "   gvkey datadate  fyear indfmt consol popsrc datafmt  tic   cusip      conm  \\\n",
       "0   1004  5/31/90   1989   INDL      C      D     STD  AIR  361105  AAR CORP   \n",
       "1   1004  5/31/91   1990   INDL      C      D     STD  AIR  361105  AAR CORP   \n",
       "2   1004  5/31/92   1991   INDL      C      D     STD  AIR  361105  AAR CORP   \n",
       "3   1004  5/31/93   1992   INDL      C      D     STD  AIR  361105  AAR CORP   \n",
       "4   1004  5/31/94   1993   INDL      C      D     STD  AIR  361105  AAR CORP   \n",
       "\n",
       "   ...     cstk     dlc     dltt    ebit   ppent  pstk     wcap  costat  \\\n",
       "0  ...   16.082  33.821   72.329  46.851  63.441     0  184.932       A   \n",
       "1  ...   16.097  16.500   68.953  33.701  63.415     0  189.172       A   \n",
       "2  ...   16.105  25.005   67.323  26.530  60.422     0  197.246       A   \n",
       "3  ...   16.205  25.025   66.298  16.343  56.052     0  193.399       A   \n",
       "4  ...   16.215   0.568  115.729  21.824  54.783     0  240.009       A   \n",
       "\n",
       "   mkvalt   sic  \n",
       "0     NaN  5080  \n",
       "1     NaN  5080  \n",
       "2     NaN  5080  \n",
       "3     NaN  5080  \n",
       "4     NaN  5080  \n",
       "\n",
       "[5 rows x 22 columns]"
      ]
     },
     "execution_count": 3,
     "metadata": {},
     "output_type": "execute_result"
    }
   ],
   "source": [
    "df.head()"
   ]
  },
  {
   "cell_type": "code",
   "execution_count": 4,
   "metadata": {
    "collapsed": false
   },
   "outputs": [
    {
     "name": "stdout",
     "output_type": "stream",
     "text": [
      "316633\n"
     ]
    }
   ],
   "source": [
    "print len(df)"
   ]
  },
  {
   "cell_type": "markdown",
   "metadata": {},
   "source": [
    "# Cleaning the Data"
   ]
  },
  {
   "cell_type": "code",
   "execution_count": 5,
   "metadata": {
    "collapsed": false
   },
   "outputs": [],
   "source": [
    "# remove SIC Division H Companies: Finance, Insurance, and Real Estate\n",
    "df_below_6000=df[df['sic']<6000]\n",
    "df_above_7000=df[df['sic']>=7000]\n",
    "# print len(df_below_6000)\n",
    "# print len(df_above_7000)\n",
    "df=pd.concat([df_below_6000,df_above_7000])\n",
    "# df.head()\n",
    "# print len(df)"
   ]
  },
  {
   "cell_type": "code",
   "execution_count": 6,
   "metadata": {
    "collapsed": false
   },
   "outputs": [],
   "source": [
    "# remove SIC Division E Companies: Transportation, Communications, Electric, Gas, and Sanitary Services\n",
    "df_below_4000=df[df['sic']<4000]\n",
    "df_above_5000=df[df['sic']>=5000]\n",
    "# print len(df_below_4000)\n",
    "# print len(df_above_5000)\n",
    "df=pd.concat([df_below_4000,df_above_5000])\n",
    "# df.head()\n",
    "# print len(df)"
   ]
  },
  {
   "cell_type": "code",
   "execution_count": 7,
   "metadata": {
    "collapsed": false
   },
   "outputs": [
    {
     "data": {
      "text/plain": [
       "13344"
      ]
     },
     "execution_count": 7,
     "metadata": {},
     "output_type": "execute_result"
    }
   ],
   "source": [
    "df['ebit'].isnull().sum()"
   ]
  },
  {
   "cell_type": "code",
   "execution_count": 8,
   "metadata": {
    "collapsed": false
   },
   "outputs": [],
   "source": [
    "# basic function to calculate ratio 1 across a row\n",
    "# ratio 1 = EBIT / (NFA + NWC)\n",
    "# EBIT = earnings before interest and taxes, after subtracting depreciation and amortization\n",
    "# NFA = net fixed assets = net book value of Property Plant and Equipment (PPENT)\n",
    "# NMW = net working capital = working capital - cash = WCAPQ - CHQ\n",
    "def ratio_one(row):\n",
    "    if math.isnan(row['ebit']) or math.isnan(row['ppent']) or math.isnan(row['wcap']) or math.isnan(row['ch']) or row['ppent']+row['wcap']-row['ch']==0:\n",
    "        ratio = 0\n",
    "    else: \n",
    "        ratio=row['ebit']/(row['ppent']+row['wcap']-row['ch'])\n",
    "    return ratio"
   ]
  },
  {
   "cell_type": "code",
   "execution_count": 9,
   "metadata": {
    "collapsed": true
   },
   "outputs": [],
   "source": [
    "# add the ratio1 column to the dataframe\n",
    "df['ratio1']=df.apply(ratio_one,axis=1)"
   ]
  },
  {
   "cell_type": "code",
   "execution_count": 10,
   "metadata": {
    "collapsed": false
   },
   "outputs": [
    {
     "name": "stdout",
     "output_type": "stream",
     "text": [
      "19885\n",
      "0\n"
     ]
    }
   ],
   "source": [
    "# check the validities of the ratio1 values\n",
    "print len(df[df['ratio1']==0])\n",
    "print df['ratio1'].isnull().sum()"
   ]
  },
  {
   "cell_type": "code",
   "execution_count": 12,
   "metadata": {
    "collapsed": true
   },
   "outputs": [],
   "source": [
    "# basic function to calculate ratio 2 across a row\n",
    "# ratio 2 = EBIT / EV\n",
    "# EV = enterprise value = equity + debt\n",
    "# equity = common stock capital + preferred stock capital = CSTK + PSTK\n",
    "# net debt = long-term debt + net current debt - cash = DLTT + DLC - CH\n",
    "def ratio_two(row):\n",
    "    if math.isnan(row['ebit']) or row['cstk']+row['pstk']+row['dltt']+row['dlc']-row['ch']==0 or math.isnan(row['cstk']+row['pstk']+row['dltt']+row['dlc']-row['ch']):\n",
    "        ratio = 0\n",
    "    else: \n",
    "        ratio=row['ebit']/(row['cstk']+row['pstk']+row['dltt']+row['dlc']-row['ch'])\n",
    "    return ratio"
   ]
  },
  {
   "cell_type": "code",
   "execution_count": 13,
   "metadata": {
    "collapsed": true
   },
   "outputs": [],
   "source": [
    "df['ratio2']=df.apply(ratio_two,axis=1)"
   ]
  },
  {
   "cell_type": "code",
   "execution_count": 14,
   "metadata": {
    "collapsed": false
   },
   "outputs": [
    {
     "name": "stdout",
     "output_type": "stream",
     "text": [
      "19848\n",
      "0\n"
     ]
    }
   ],
   "source": [
    "print len(df[df['ratio2']==0])\n",
    "print df['ratio2'].isnull().sum()"
   ]
  },
  {
   "cell_type": "code",
   "execution_count": 15,
   "metadata": {
    "collapsed": true
   },
   "outputs": [],
   "source": [
    "df.to_csv(\"CleanedAnnual1990-2015.csv\")"
   ]
  },
  {
   "cell_type": "markdown",
   "metadata": {},
   "source": [
    "# Moving forward:\n",
    "1. Rank companies based on ratio1 for given year (From high-better, to low-worse) \n",
    "2. Rank companies based on ratio2 for given year\n",
    "3. Add the two rankings to get company's overall status for the year\n",
    "4. Year over year, buy high-ranking companies and sell low-ranking companies\n",
    "## have pricing data from 1990 (on monthly basis) in CSV file\n",
    "## have adjustment data from 1990 (on quarterly basis) in CSV file\n",
    "1. Adjust the prices based on AJEX\n",
    "2. Run simulations based on ^^ "
   ]
  },
  {
   "cell_type": "code",
   "execution_count": null,
   "metadata": {
    "collapsed": true
   },
   "outputs": [],
   "source": []
  }
 ],
 "metadata": {
  "kernelspec": {
   "display_name": "Python 2",
   "language": "python",
   "name": "python2"
  },
  "language_info": {
   "codemirror_mode": {
    "name": "ipython",
    "version": 2
   },
   "file_extension": ".py",
   "mimetype": "text/x-python",
   "name": "python",
   "nbconvert_exporter": "python",
   "pygments_lexer": "ipython2",
   "version": "2.7.10"
  }
 },
 "nbformat": 4,
 "nbformat_minor": 0
}
