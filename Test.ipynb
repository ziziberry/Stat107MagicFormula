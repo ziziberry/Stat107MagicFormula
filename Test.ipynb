{
 "cells": [
  {
   "cell_type": "markdown",
   "metadata": {},
   "source": [
    "# Magic Formula Investing: Implementation and Simulation Using Python\n",
    "## By Zongning (ZiZi) Zhang, Connor Roberts, Xincheng You, and Samuel Lam\n",
    "\n",
    "### Table of Contents\n",
    "* Part A: Data Wrangling\n",
    "    * Filling in data by cross-referencing the annual data with quarterly data\n",
    "    * Dropping rows of data with missing crucial values "
   ]
  },
  {
   "cell_type": "markdown",
   "metadata": {},
   "source": [
    "## Part A: Cleaning the Data"
   ]
  },
  {
   "cell_type": "code",
   "execution_count": 9,
   "metadata": {
    "collapsed": true
   },
   "outputs": [],
   "source": [
    "# importing packages that are used throughout the code\n",
    "import math\n",
    "import numpy as np\n",
    "import pandas as pd\n",
    "\n",
    "%matplotlib inline\n",
    "import matplotlib.pyplot as plt\n",
    "\n",
    "from matplotlib import rcParams"
   ]
  },
  {
   "cell_type": "code",
   "execution_count": 10,
   "metadata": {
    "collapsed": false
   },
   "outputs": [],
   "source": [
    "# importing our raw data and viewing a tiny subset of it\n",
    "# data was downloaded for the Wharton Research Data Services site, using the Compustat Database\n",
    "# https://wrds-web.wharton.upenn.edu/wrds/support/Data/_003Sample%20Programs/Compustat/compna_translate_vars.cfm?\n",
    "\n",
    "# df containly quarterly company fundamentals, such as debt, cash, PPE, etc\n",
    "# Compustat does not contain quarterly EBIT values, which is crucial to our calculations\n",
    "df=pd.read_csv(\"QuarterlyRawDataNoEBIT.csv\")\n",
    "\n",
    "# the Compustat database only offers EBIT on an annual basis, so ebit_df \n",
    "# contains annual data for each company's EBIT \n",
    "ebit_df=pd.read_csv(\"AnnualRawInputData.csv\")"
   ]
  },
  {
   "cell_type": "code",
   "execution_count": 12,
   "metadata": {
    "collapsed": false
   },
   "outputs": [
    {
     "name": "stdout",
     "output_type": "stream",
     "text": [
      "Length of Quarterly Data:  512530\n",
      "Length of Annual Data:  140522\n"
     ]
    },
    {
     "data": {
      "text/html": [
       "<div>\n",
       "<table border=\"1\" class=\"dataframe\">\n",
       "  <thead>\n",
       "    <tr style=\"text-align: right;\">\n",
       "      <th></th>\n",
       "      <th>gvkey</th>\n",
       "      <th>datadate</th>\n",
       "      <th>fyearq</th>\n",
       "      <th>fqtr</th>\n",
       "      <th>indfmt</th>\n",
       "      <th>consol</th>\n",
       "      <th>popsrc</th>\n",
       "      <th>datafmt</th>\n",
       "      <th>tic</th>\n",
       "      <th>conm</th>\n",
       "      <th>...</th>\n",
       "      <th>cstkq</th>\n",
       "      <th>dlcq</th>\n",
       "      <th>dlttq</th>\n",
       "      <th>ppentq</th>\n",
       "      <th>pstkq</th>\n",
       "      <th>wcapq</th>\n",
       "      <th>costat</th>\n",
       "      <th>mkvaltq</th>\n",
       "      <th>prccq</th>\n",
       "      <th>sic</th>\n",
       "    </tr>\n",
       "  </thead>\n",
       "  <tbody>\n",
       "    <tr>\n",
       "      <th>0</th>\n",
       "      <td>1004</td>\n",
       "      <td>02/28/1990</td>\n",
       "      <td>1989</td>\n",
       "      <td>3</td>\n",
       "      <td>INDL</td>\n",
       "      <td>C</td>\n",
       "      <td>D</td>\n",
       "      <td>STD</td>\n",
       "      <td>AIR</td>\n",
       "      <td>AAR CORP</td>\n",
       "      <td>...</td>\n",
       "      <td>16.070</td>\n",
       "      <td>32.551</td>\n",
       "      <td>72.606</td>\n",
       "      <td>53.428</td>\n",
       "      <td>0</td>\n",
       "      <td>188.100</td>\n",
       "      <td>A</td>\n",
       "      <td>NaN</td>\n",
       "      <td>31.125</td>\n",
       "      <td>5080</td>\n",
       "    </tr>\n",
       "    <tr>\n",
       "      <th>1</th>\n",
       "      <td>1004</td>\n",
       "      <td>05/31/1990</td>\n",
       "      <td>1989</td>\n",
       "      <td>4</td>\n",
       "      <td>INDL</td>\n",
       "      <td>C</td>\n",
       "      <td>D</td>\n",
       "      <td>STD</td>\n",
       "      <td>AIR</td>\n",
       "      <td>AAR CORP</td>\n",
       "      <td>...</td>\n",
       "      <td>16.082</td>\n",
       "      <td>33.821</td>\n",
       "      <td>72.329</td>\n",
       "      <td>63.441</td>\n",
       "      <td>0</td>\n",
       "      <td>184.932</td>\n",
       "      <td>A</td>\n",
       "      <td>NaN</td>\n",
       "      <td>21.250</td>\n",
       "      <td>5080</td>\n",
       "    </tr>\n",
       "    <tr>\n",
       "      <th>2</th>\n",
       "      <td>1004</td>\n",
       "      <td>08/31/1990</td>\n",
       "      <td>1990</td>\n",
       "      <td>1</td>\n",
       "      <td>INDL</td>\n",
       "      <td>C</td>\n",
       "      <td>D</td>\n",
       "      <td>STD</td>\n",
       "      <td>AIR</td>\n",
       "      <td>AAR CORP</td>\n",
       "      <td>...</td>\n",
       "      <td>16.086</td>\n",
       "      <td>27.427</td>\n",
       "      <td>71.806</td>\n",
       "      <td>63.545</td>\n",
       "      <td>0</td>\n",
       "      <td>189.351</td>\n",
       "      <td>A</td>\n",
       "      <td>NaN</td>\n",
       "      <td>15.875</td>\n",
       "      <td>5080</td>\n",
       "    </tr>\n",
       "    <tr>\n",
       "      <th>3</th>\n",
       "      <td>1004</td>\n",
       "      <td>11/30/1990</td>\n",
       "      <td>1990</td>\n",
       "      <td>2</td>\n",
       "      <td>INDL</td>\n",
       "      <td>C</td>\n",
       "      <td>D</td>\n",
       "      <td>STD</td>\n",
       "      <td>AIR</td>\n",
       "      <td>AAR CORP</td>\n",
       "      <td>...</td>\n",
       "      <td>16.086</td>\n",
       "      <td>33.563</td>\n",
       "      <td>71.769</td>\n",
       "      <td>63.075</td>\n",
       "      <td>0</td>\n",
       "      <td>186.955</td>\n",
       "      <td>A</td>\n",
       "      <td>NaN</td>\n",
       "      <td>11.875</td>\n",
       "      <td>5080</td>\n",
       "    </tr>\n",
       "    <tr>\n",
       "      <th>4</th>\n",
       "      <td>1004</td>\n",
       "      <td>02/28/1991</td>\n",
       "      <td>1990</td>\n",
       "      <td>3</td>\n",
       "      <td>INDL</td>\n",
       "      <td>C</td>\n",
       "      <td>D</td>\n",
       "      <td>STD</td>\n",
       "      <td>AIR</td>\n",
       "      <td>AAR CORP</td>\n",
       "      <td>...</td>\n",
       "      <td>16.097</td>\n",
       "      <td>11.436</td>\n",
       "      <td>69.020</td>\n",
       "      <td>63.626</td>\n",
       "      <td>0</td>\n",
       "      <td>184.665</td>\n",
       "      <td>A</td>\n",
       "      <td>NaN</td>\n",
       "      <td>12.875</td>\n",
       "      <td>5080</td>\n",
       "    </tr>\n",
       "  </tbody>\n",
       "</table>\n",
       "<p>5 rows × 25 columns</p>\n",
       "</div>"
      ],
      "text/plain": [
       "   gvkey    datadate  fyearq  fqtr indfmt consol popsrc datafmt  tic  \\\n",
       "0   1004  02/28/1990    1989     3   INDL      C      D     STD  AIR   \n",
       "1   1004  05/31/1990    1989     4   INDL      C      D     STD  AIR   \n",
       "2   1004  08/31/1990    1990     1   INDL      C      D     STD  AIR   \n",
       "3   1004  11/30/1990    1990     2   INDL      C      D     STD  AIR   \n",
       "4   1004  02/28/1991    1990     3   INDL      C      D     STD  AIR   \n",
       "\n",
       "       conm  ...    cstkq    dlcq   dlttq  ppentq  pstkq    wcapq  costat  \\\n",
       "0  AAR CORP  ...   16.070  32.551  72.606  53.428      0  188.100       A   \n",
       "1  AAR CORP  ...   16.082  33.821  72.329  63.441      0  184.932       A   \n",
       "2  AAR CORP  ...   16.086  27.427  71.806  63.545      0  189.351       A   \n",
       "3  AAR CORP  ...   16.086  33.563  71.769  63.075      0  186.955       A   \n",
       "4  AAR CORP  ...   16.097  11.436  69.020  63.626      0  184.665       A   \n",
       "\n",
       "   mkvaltq   prccq   sic  \n",
       "0      NaN  31.125  5080  \n",
       "1      NaN  21.250  5080  \n",
       "2      NaN  15.875  5080  \n",
       "3      NaN  11.875  5080  \n",
       "4      NaN  12.875  5080  \n",
       "\n",
       "[5 rows x 25 columns]"
      ]
     },
     "execution_count": 12,
     "metadata": {},
     "output_type": "execute_result"
    }
   ],
   "source": [
    "print \"Length of Quarterly Data: \", len(df)\n",
    "print \"Length of Annual Data: \", len(ebit_df)\n",
    "df.head()"
   ]
  },
  {
   "cell_type": "code",
   "execution_count": 13,
   "metadata": {
    "collapsed": false
   },
   "outputs": [
    {
     "name": "stdout",
     "output_type": "stream",
     "text": [
      "487706 124596\n"
     ]
    }
   ],
   "source": [
    "# trimming data for years past 2014\n",
    "df=df[df['fyearq']<2015]\n",
    "ebit_df=ebit_df[ebit_df['fyear']<2015]\n",
    "\n",
    "# eliminating duplicate data that is double-listed under FS and INDL \n",
    "ebit_df=ebit_df[ebit_df['indfmt']!=\"FS\"]\n",
    "\n",
    "# the length of both dataframes should be shortening\n",
    "print len(df), len(ebit_df)"
   ]
  },
  {
   "cell_type": "code",
   "execution_count": 14,
   "metadata": {
    "collapsed": false
   },
   "outputs": [
    {
     "name": "stdout",
     "output_type": "stream",
     "text": [
      "350463 87305\n"
     ]
    }
   ],
   "source": [
    "# extracting the companies that have missing EBIT values\n",
    "missing_ebit_tics=ebit_df[ebit_df['ebit'].isnull()].tic.unique()\n",
    "\n",
    "# removing those companies from our datasets \n",
    "df = df[~df.tic.isin(missing_ebit_tics)]\n",
    "ebit_df = ebit_df[~ebit_df.tic.isin(missing_ebit_tics)]\n",
    "\n",
    "# the length of both dataframes should be shortening\n",
    "print len(df), len(ebit_df)"
   ]
  },
  {
   "cell_type": "code",
   "execution_count": 15,
   "metadata": {
    "collapsed": true
   },
   "outputs": [],
   "source": [
    "# function to get the appropriate annual EBIT value for each row in the quarterly dataframe\n",
    "def get_row_ebit(row):\n",
    "    ebit_row = ebit_df[ebit_df['fyear']==row['fyearq']]\n",
    "    ebit_row = ebit_row[ebit_row['tic']== row['tic']]\n",
    "    if ebit_row['ebit'].empty:\n",
    "        return 0\n",
    "    else: \n",
    "        return float(ebit_row['ebit'])"
   ]
  },
  {
   "cell_type": "code",
   "execution_count": 16,
   "metadata": {
    "collapsed": false
   },
   "outputs": [
    {
     "name": "stdout",
     "output_type": "stream",
     "text": [
      "CPU times: user 17min 15s, sys: 4.22 s, total: 17min 20s\n",
      "Wall time: 17min 21s\n"
     ]
    }
   ],
   "source": [
    "%%time \n",
    "# takes a while to run so don't run this every time\n",
    "# the edited CSVs have been saved and can be loaded in separately \n",
    "df['ebit']=df.apply(get_row_ebit,axis=1)"
   ]
  },
  {
   "cell_type": "code",
   "execution_count": 17,
   "metadata": {
    "collapsed": true
   },
   "outputs": [],
   "source": [
    "# function to get the appropriate annual cash values for \n",
    "# rows with missing cash values in the quarterly dataframe\n",
    "# \n",
    "# quarterly cash values are generally missing before 2007\n",
    "def get_row_cash(row):\n",
    "    if math.isnan(row['chq']):\n",
    "        cash_row = ebit_df[ebit_df['datadate']==row['datadate']]\n",
    "        cash_row = cash_row[cash_row['tic']==row['tic']]\n",
    "        if cash_row['ch'].empty:\n",
    "            return float('NaN')\n",
    "        else: \n",
    "            return float(cash_row['ch'])\n",
    "    else: \n",
    "        return row['chq']    "
   ]
  },
  {
   "cell_type": "code",
   "execution_count": 18,
   "metadata": {
    "collapsed": false
   },
   "outputs": [
    {
     "name": "stdout",
     "output_type": "stream",
     "text": [
      "CPU times: user 21min 28s, sys: 3.17 s, total: 21min 31s\n",
      "Wall time: 21min 33s\n"
     ]
    }
   ],
   "source": [
    "%%time\n",
    "# also takes around 10-15 minutes\n",
    "df['chq']=df.apply(get_row_cash,axis=1)"
   ]
  },
  {
   "cell_type": "code",
   "execution_count": 19,
   "metadata": {
    "collapsed": false
   },
   "outputs": [
    {
     "name": "stdout",
     "output_type": "stream",
     "text": [
      "111708\n"
     ]
    }
   ],
   "source": [
    "# dropping the rows that still have missing cash values in the quarterly dataset\n",
    "df=df[~np.isnan(df['chq'])]\n",
    "\n",
    "# # dropping the rows with missing market values (mkvaltq) in the quarterly dataset\n",
    "df=df[~np.isnan(df['mkvaltq'])]\n",
    "print len(df)\n",
    "\n",
    "# export to CSV so we don't have to rerun the cleaning and get_row_ebit/get_row_cash functions everytime\n",
    "df.to_csv(\"CleanedQuarterlyEBITCash.csv\")\n",
    "ebit_df.to_csv(\"CleanedAnnualEBIT.csv\")"
   ]
  },
  {
   "cell_type": "markdown",
   "metadata": {},
   "source": [
    "# Start here to avoid running data-cleaning code above\n",
    "### (which takes ~30 minutes)"
   ]
  },
  {
   "cell_type": "code",
   "execution_count": 20,
   "metadata": {
    "collapsed": false
   },
   "outputs": [
    {
     "name": "stdout",
     "output_type": "stream",
     "text": [
      "111708 87305\n"
     ]
    }
   ],
   "source": [
    "# re-read in the cleaned dataframes\n",
    "df=pd.read_csv(\"CleanedQuarterlyEBITCash.csv\")\n",
    "ebit_df=pd.read_csv(\"CleanedAnnualEBIT.csv\")\n",
    "print len(df), len(ebit_df)\n",
    "\n",
    "# drop the index column that gets added mysteriously during exporting\n",
    "df=df.drop(['Unnamed: 0'],axis=1)\n",
    "ebit_df=ebit_df.drop(['Unnamed: 0'], axis=1)"
   ]
  },
  {
   "cell_type": "code",
   "execution_count": 21,
   "metadata": {
    "collapsed": false
   },
   "outputs": [],
   "source": [
    "# get a list of all the unique tickers in our datasets\n",
    "tics = pd.DataFrame(data=df['tic'].unique(), columns=['ticker'])\n",
    "tics.to_csv('AllUniqueTickers.csv')"
   ]
  },
  {
   "cell_type": "markdown",
   "metadata": {},
   "source": [
    "## 1. Establish minimum market capitalization value of 50M\n",
    "\n",
    "#### Filter out companies that do not meet this minimum"
   ]
  },
  {
   "cell_type": "code",
   "execution_count": 22,
   "metadata": {
    "collapsed": true
   },
   "outputs": [],
   "source": [
    "# we write a function here that will be used later once the year of simulation is determined\n",
    "# year >= 2006, since mkvaltq are not reported before then \n",
    "\n",
    "# returns a list of companies that meet the minimum market cap requirement in a given year\n",
    "min_market_cap = 50\n",
    "def set_min_market_cap(df, year):\n",
    "    df_for_year = df[df['fyearq']==year]\n",
    "    df_for_year = df_for_year[df_for_year['mkvaltq']>min_market_cap]\n",
    "    return list(df_for_year['tic'])"
   ]
  },
  {
   "cell_type": "markdown",
   "metadata": {},
   "source": [
    "## 2. Excluding utility and financial companies"
   ]
  },
  {
   "cell_type": "code",
   "execution_count": 23,
   "metadata": {
    "collapsed": false
   },
   "outputs": [
    {
     "name": "stdout",
     "output_type": "stream",
     "text": [
      "94031 87305\n"
     ]
    }
   ],
   "source": [
    "# remove SIC Division H Companies: Finance, Insurance, and Real Estate\n",
    "# https://www.osha.gov/pls/imis/sic_manual.html\n",
    "df_below_6000=df[df['sic']<6000]\n",
    "df_above_7000=df[df['sic']>=7000]\n",
    "\n",
    "df=pd.concat([df_below_6000,df_above_7000])\n",
    "\n",
    "# still shortening\n",
    "print len(df), len(ebit_df)"
   ]
  },
  {
   "cell_type": "code",
   "execution_count": 24,
   "metadata": {
    "collapsed": false
   },
   "outputs": [
    {
     "name": "stdout",
     "output_type": "stream",
     "text": [
      "83805 87305\n"
     ]
    }
   ],
   "source": [
    "# remove SIC Division E Companies: Transportation, Communications, Electric, Gas, and Sanitary Services\n",
    "# https://www.osha.gov/pls/imis/sic_manual.html\n",
    "df_below_4000=df[df['sic']<4000]\n",
    "df_above_5000=df[df['sic']>=5000]\n",
    "\n",
    "df=pd.concat([df_below_4000,df_above_5000])\n",
    "\n",
    "# still shortening\n",
    "print len(df), len(ebit_df)"
   ]
  },
  {
   "cell_type": "markdown",
   "metadata": {},
   "source": [
    "## 3. Calculating Earnings Yield: EBIT/EV"
   ]
  },
  {
   "cell_type": "code",
   "execution_count": 25,
   "metadata": {
    "collapsed": true
   },
   "outputs": [],
   "source": [
    "# basic function to calculate ratio 1 across a row\n",
    "# ratio 1 = EBIT / EV\n",
    "# EBIT = earnings before interest and taxes, after subtracting depreciation and amortization\n",
    "# EV = enterprise value = market cap + debt - cash\n",
    "# EV = MKVALTQ + DTQ - CHQ\n",
    "# MKVALTQ = market cap = value of preferred stock + value of common stock\n",
    "# MKVALTQ = PSTKQ + CSTKQ \n",
    "# DTQ = debt = long-term debt + net current debt\n",
    "# DTQ = DLTTQ + DLCQ\n",
    "# CHQ = cash\n",
    "# ratio 1 = EBIT / (MKVALTQ + DLCQ + DLTTQ - CHQ)\n",
    "def ratio_one(row):\n",
    "    if math.isnan(row['mkvaltq']) or math.isnan(row['dlcq']) or math.isnan(row['dlttq']) or math.isnan(row['chq']) or (row['mkvaltq']+row['dlcq']+row['dlttq']-row['chq'])==0: \n",
    "        ratio = float('NaN')\n",
    "    else: \n",
    "        ratio=row['ebit']/(row['mkvaltq']+row['dlcq']+row['dlttq']-row['chq'])\n",
    "    return ratio"
   ]
  },
  {
   "cell_type": "code",
   "execution_count": 26,
   "metadata": {
    "collapsed": false
   },
   "outputs": [
    {
     "name": "stdout",
     "output_type": "stream",
     "text": [
      "CPU times: user 3.87 s, sys: 20.2 ms, total: 3.89 s\n",
      "Wall time: 3.89 s\n"
     ]
    }
   ],
   "source": [
    "%%time\n",
    "# add the ratio1 column to the dataframe\n",
    "df['ratio1']=df.apply(ratio_one,axis=1)"
   ]
  },
  {
   "cell_type": "markdown",
   "metadata": {},
   "source": [
    "## 4. Calculating Return on Capital: EBIT/(NFA + NWC)"
   ]
  },
  {
   "cell_type": "code",
   "execution_count": 27,
   "metadata": {
    "collapsed": true
   },
   "outputs": [],
   "source": [
    "# basic function to calculate ratio 2 across a row\n",
    "# ratio 2 = EBIT / (NFA + NWC)\n",
    "# EBIT = earnings before interest and taxes, after subtracting depreciation and amortization\n",
    "# NFA = net fixed assets = net book value of Property Plant and Equipment (PPENTQ)\n",
    "# NMW = net working capital = working capital - cash = WCAPQ - CHQ\n",
    "def ratio_two(row):\n",
    "    if math.isnan(row['ppentq']) or math.isnan(row['wcapq']) or math.isnan(row['chq']) or row['ppentq']+row['wcapq']-row['chq']==0:\n",
    "        ratio = float('NaN')\n",
    "    else: \n",
    "        ratio=row['ebit']/(row['ppentq']+row['wcapq']-row['chq'])\n",
    "    return ratio"
   ]
  },
  {
   "cell_type": "code",
   "execution_count": 28,
   "metadata": {
    "collapsed": false
   },
   "outputs": [
    {
     "name": "stdout",
     "output_type": "stream",
     "text": [
      "CPU times: user 3.05 s, sys: 22.2 ms, total: 3.07 s\n",
      "Wall time: 3.06 s\n"
     ]
    }
   ],
   "source": [
    "%%time\n",
    "# add the ratio2 column to the dataframe\n",
    "df['ratio2']=df.apply(ratio_two,axis=1)"
   ]
  },
  {
   "cell_type": "code",
   "execution_count": 29,
   "metadata": {
    "collapsed": false
   },
   "outputs": [
    {
     "data": {
      "text/html": [
       "<div>\n",
       "<table border=\"1\" class=\"dataframe\">\n",
       "  <thead>\n",
       "    <tr style=\"text-align: right;\">\n",
       "      <th></th>\n",
       "      <th>gvkey</th>\n",
       "      <th>datadate</th>\n",
       "      <th>fyearq</th>\n",
       "      <th>fqtr</th>\n",
       "      <th>indfmt</th>\n",
       "      <th>consol</th>\n",
       "      <th>popsrc</th>\n",
       "      <th>datafmt</th>\n",
       "      <th>tic</th>\n",
       "      <th>conm</th>\n",
       "      <th>...</th>\n",
       "      <th>ppentq</th>\n",
       "      <th>pstkq</th>\n",
       "      <th>wcapq</th>\n",
       "      <th>costat</th>\n",
       "      <th>mkvaltq</th>\n",
       "      <th>prccq</th>\n",
       "      <th>sic</th>\n",
       "      <th>ebit</th>\n",
       "      <th>ratio1</th>\n",
       "      <th>ratio2</th>\n",
       "    </tr>\n",
       "  </thead>\n",
       "  <tbody>\n",
       "    <tr>\n",
       "      <th>60</th>\n",
       "      <td>1050</td>\n",
       "      <td>12/31/2006</td>\n",
       "      <td>2006</td>\n",
       "      <td>4</td>\n",
       "      <td>INDL</td>\n",
       "      <td>C</td>\n",
       "      <td>D</td>\n",
       "      <td>STD</td>\n",
       "      <td>CECE</td>\n",
       "      <td>CECO ENVIRONMENTAL CORP</td>\n",
       "      <td>...</td>\n",
       "      <td>8.530</td>\n",
       "      <td>0</td>\n",
       "      <td>14.311</td>\n",
       "      <td>A</td>\n",
       "      <td>103.0205</td>\n",
       "      <td>8.97</td>\n",
       "      <td>3564</td>\n",
       "      <td>6.047</td>\n",
       "      <td>0.051216</td>\n",
       "      <td>0.270004</td>\n",
       "    </tr>\n",
       "    <tr>\n",
       "      <th>61</th>\n",
       "      <td>1050</td>\n",
       "      <td>03/31/2007</td>\n",
       "      <td>2007</td>\n",
       "      <td>1</td>\n",
       "      <td>INDL</td>\n",
       "      <td>C</td>\n",
       "      <td>D</td>\n",
       "      <td>STD</td>\n",
       "      <td>CECE</td>\n",
       "      <td>CECO ENVIRONMENTAL CORP</td>\n",
       "      <td>...</td>\n",
       "      <td>8.915</td>\n",
       "      <td>0</td>\n",
       "      <td>17.872</td>\n",
       "      <td>A</td>\n",
       "      <td>143.5975</td>\n",
       "      <td>12.49</td>\n",
       "      <td>3564</td>\n",
       "      <td>12.634</td>\n",
       "      <td>0.075565</td>\n",
       "      <td>0.479196</td>\n",
       "    </tr>\n",
       "    <tr>\n",
       "      <th>62</th>\n",
       "      <td>1050</td>\n",
       "      <td>06/30/2007</td>\n",
       "      <td>2007</td>\n",
       "      <td>2</td>\n",
       "      <td>INDL</td>\n",
       "      <td>C</td>\n",
       "      <td>D</td>\n",
       "      <td>STD</td>\n",
       "      <td>CECE</td>\n",
       "      <td>CECO ENVIRONMENTAL CORP</td>\n",
       "      <td>...</td>\n",
       "      <td>8.766</td>\n",
       "      <td>0</td>\n",
       "      <td>16.457</td>\n",
       "      <td>A</td>\n",
       "      <td>167.8835</td>\n",
       "      <td>11.48</td>\n",
       "      <td>3564</td>\n",
       "      <td>12.634</td>\n",
       "      <td>0.074792</td>\n",
       "      <td>0.512806</td>\n",
       "    </tr>\n",
       "    <tr>\n",
       "      <th>63</th>\n",
       "      <td>1050</td>\n",
       "      <td>09/30/2007</td>\n",
       "      <td>2007</td>\n",
       "      <td>3</td>\n",
       "      <td>INDL</td>\n",
       "      <td>C</td>\n",
       "      <td>D</td>\n",
       "      <td>STD</td>\n",
       "      <td>CECE</td>\n",
       "      <td>CECO ENVIRONMENTAL CORP</td>\n",
       "      <td>...</td>\n",
       "      <td>9.076</td>\n",
       "      <td>0</td>\n",
       "      <td>17.810</td>\n",
       "      <td>A</td>\n",
       "      <td>225.9759</td>\n",
       "      <td>15.28</td>\n",
       "      <td>3564</td>\n",
       "      <td>12.634</td>\n",
       "      <td>0.055902</td>\n",
       "      <td>0.483062</td>\n",
       "    </tr>\n",
       "    <tr>\n",
       "      <th>64</th>\n",
       "      <td>1050</td>\n",
       "      <td>12/31/2007</td>\n",
       "      <td>2007</td>\n",
       "      <td>4</td>\n",
       "      <td>INDL</td>\n",
       "      <td>C</td>\n",
       "      <td>D</td>\n",
       "      <td>STD</td>\n",
       "      <td>CECE</td>\n",
       "      <td>CECO ENVIRONMENTAL CORP</td>\n",
       "      <td>...</td>\n",
       "      <td>9.284</td>\n",
       "      <td>0</td>\n",
       "      <td>21.220</td>\n",
       "      <td>A</td>\n",
       "      <td>162.3832</td>\n",
       "      <td>10.98</td>\n",
       "      <td>3564</td>\n",
       "      <td>12.634</td>\n",
       "      <td>0.075910</td>\n",
       "      <td>0.423278</td>\n",
       "    </tr>\n",
       "  </tbody>\n",
       "</table>\n",
       "<p>5 rows × 28 columns</p>\n",
       "</div>"
      ],
      "text/plain": [
       "    gvkey    datadate  fyearq  fqtr indfmt consol popsrc datafmt   tic  \\\n",
       "60   1050  12/31/2006    2006     4   INDL      C      D     STD  CECE   \n",
       "61   1050  03/31/2007    2007     1   INDL      C      D     STD  CECE   \n",
       "62   1050  06/30/2007    2007     2   INDL      C      D     STD  CECE   \n",
       "63   1050  09/30/2007    2007     3   INDL      C      D     STD  CECE   \n",
       "64   1050  12/31/2007    2007     4   INDL      C      D     STD  CECE   \n",
       "\n",
       "                       conm    ...     ppentq pstkq   wcapq costat   mkvaltq  \\\n",
       "60  CECO ENVIRONMENTAL CORP    ...      8.530     0  14.311      A  103.0205   \n",
       "61  CECO ENVIRONMENTAL CORP    ...      8.915     0  17.872      A  143.5975   \n",
       "62  CECO ENVIRONMENTAL CORP    ...      8.766     0  16.457      A  167.8835   \n",
       "63  CECO ENVIRONMENTAL CORP    ...      9.076     0  17.810      A  225.9759   \n",
       "64  CECO ENVIRONMENTAL CORP    ...      9.284     0  21.220      A  162.3832   \n",
       "\n",
       "    prccq   sic    ebit    ratio1    ratio2  \n",
       "60   8.97  3564   6.047  0.051216  0.270004  \n",
       "61  12.49  3564  12.634  0.075565  0.479196  \n",
       "62  11.48  3564  12.634  0.074792  0.512806  \n",
       "63  15.28  3564  12.634  0.055902  0.483062  \n",
       "64  10.98  3564  12.634  0.075910  0.423278  \n",
       "\n",
       "[5 rows x 28 columns]"
      ]
     },
     "execution_count": 29,
     "metadata": {},
     "output_type": "execute_result"
    }
   ],
   "source": [
    "# our dataframe now has two additional columns: ratio1 and ratio2\n",
    "df.head()"
   ]
  },
  {
   "cell_type": "markdown",
   "metadata": {},
   "source": [
    "## 5. Ranking the companies based on calculated ratios\n",
    "### and extracting the top 20-30 companies"
   ]
  },
  {
   "cell_type": "code",
   "execution_count": 30,
   "metadata": {
    "collapsed": false
   },
   "outputs": [],
   "source": [
    "# get a sorted datafframe of the eligible companies for a given year\n",
    "\n",
    "# we can also specify the weights of the two ratios used to create the overall ranking\n",
    "def get_top(df, year, ratio1weight):\n",
    "    # eliminate companies that do not meet the min market cap\n",
    "    short_df = df[df['tic'].isin(set_min_market_cap(df, year))]\n",
    "    short_df = short_df[short_df['fyearq']==year]\n",
    "    \n",
    "    # rank the rows based on ratio1 and ratio2, with a larger ratio ==> better ranking\n",
    "    short_df['rank1'] = short_df['ratio1'].rank(ascending=False,na_option='bottom')\n",
    "    short_df['rank2'] = short_df['ratio2'].rank(ascending=False,na_option='bottom')\n",
    "    \n",
    "    # sum the two ranks based on the specified ratio1weight parameter\n",
    "    short_df['ranksum'] = ratio1weight * short_df['rank1']+ (1-ratio1weight) * short_df['rank2']\n",
    "    \n",
    "    # get the final ranking from the combined sum\n",
    "    short_df['finalrank'] = short_df['ranksum'].rank(ascending=True,na_option='bottom')\n",
    "    sorted_short = short_df.sort(columns='finalrank',ascending=True)\n",
    "    \n",
    "    # return a tuple of the sorted dataframe and the sorted list of unique tickers \n",
    "    return sorted_short, list(sorted_short.tic.unique())"
   ]
  },
  {
   "cell_type": "markdown",
   "metadata": {},
   "source": [
    "## 6. Invest in 30 highest-ranked companies\n",
    "We are simulating a 1,000,000 dollar portfolio. "
   ]
  },
  {
   "cell_type": "code",
   "execution_count": 35,
   "metadata": {
    "collapsed": false
   },
   "outputs": [
    {
     "data": {
      "text/html": [
       "<div>\n",
       "<table border=\"1\" class=\"dataframe\">\n",
       "  <thead>\n",
       "    <tr style=\"text-align: right;\">\n",
       "      <th></th>\n",
       "      <th>Unnamed: 0</th>\n",
       "      <th>Unnamed: 0.1</th>\n",
       "      <th>Unnamed: 0.1</th>\n",
       "      <th>PERMNO</th>\n",
       "      <th>date</th>\n",
       "      <th>SICCD</th>\n",
       "      <th>TICKER</th>\n",
       "      <th>COMNAM</th>\n",
       "      <th>PRC</th>\n",
       "      <th>CFACPR</th>\n",
       "      <th>PRCADJUST</th>\n",
       "      <th>year</th>\n",
       "    </tr>\n",
       "  </thead>\n",
       "  <tbody>\n",
       "    <tr>\n",
       "      <th>0</th>\n",
       "      <td>0</td>\n",
       "      <td>0</td>\n",
       "      <td>0</td>\n",
       "      <td>10001</td>\n",
       "      <td>1/31/90</td>\n",
       "      <td>4920</td>\n",
       "      <td>GFGC</td>\n",
       "      <td>GREAT FALLS GAS CO</td>\n",
       "      <td>-9.9375</td>\n",
       "      <td>3</td>\n",
       "      <td>29.8125</td>\n",
       "      <td>1990</td>\n",
       "    </tr>\n",
       "    <tr>\n",
       "      <th>1</th>\n",
       "      <td>1</td>\n",
       "      <td>1</td>\n",
       "      <td>1</td>\n",
       "      <td>10001</td>\n",
       "      <td>2/28/90</td>\n",
       "      <td>4920</td>\n",
       "      <td>GFGC</td>\n",
       "      <td>GREAT FALLS GAS CO</td>\n",
       "      <td>-9.8750</td>\n",
       "      <td>3</td>\n",
       "      <td>29.6250</td>\n",
       "      <td>1990</td>\n",
       "    </tr>\n",
       "    <tr>\n",
       "      <th>2</th>\n",
       "      <td>2</td>\n",
       "      <td>2</td>\n",
       "      <td>2</td>\n",
       "      <td>10001</td>\n",
       "      <td>3/30/90</td>\n",
       "      <td>4920</td>\n",
       "      <td>GFGC</td>\n",
       "      <td>GREAT FALLS GAS CO</td>\n",
       "      <td>-9.8750</td>\n",
       "      <td>3</td>\n",
       "      <td>29.6250</td>\n",
       "      <td>1990</td>\n",
       "    </tr>\n",
       "    <tr>\n",
       "      <th>3</th>\n",
       "      <td>3</td>\n",
       "      <td>3</td>\n",
       "      <td>3</td>\n",
       "      <td>10001</td>\n",
       "      <td>4/30/90</td>\n",
       "      <td>4920</td>\n",
       "      <td>GFGC</td>\n",
       "      <td>GREAT FALLS GAS CO</td>\n",
       "      <td>-9.8750</td>\n",
       "      <td>3</td>\n",
       "      <td>29.6250</td>\n",
       "      <td>1990</td>\n",
       "    </tr>\n",
       "    <tr>\n",
       "      <th>4</th>\n",
       "      <td>4</td>\n",
       "      <td>4</td>\n",
       "      <td>4</td>\n",
       "      <td>10001</td>\n",
       "      <td>5/31/90</td>\n",
       "      <td>4920</td>\n",
       "      <td>GFGC</td>\n",
       "      <td>GREAT FALLS GAS CO</td>\n",
       "      <td>9.7500</td>\n",
       "      <td>3</td>\n",
       "      <td>29.2500</td>\n",
       "      <td>1990</td>\n",
       "    </tr>\n",
       "  </tbody>\n",
       "</table>\n",
       "</div>"
      ],
      "text/plain": [
       "   Unnamed: 0  Unnamed: 0.1  Unnamed: 0.1  PERMNO     date SICCD TICKER  \\\n",
       "0           0             0             0   10001  1/31/90  4920   GFGC   \n",
       "1           1             1             1   10001  2/28/90  4920   GFGC   \n",
       "2           2             2             2   10001  3/30/90  4920   GFGC   \n",
       "3           3             3             3   10001  4/30/90  4920   GFGC   \n",
       "4           4             4             4   10001  5/31/90  4920   GFGC   \n",
       "\n",
       "               COMNAM     PRC  CFACPR  PRCADJUST  year  \n",
       "0  GREAT FALLS GAS CO -9.9375       3    29.8125  1990  \n",
       "1  GREAT FALLS GAS CO -9.8750       3    29.6250  1990  \n",
       "2  GREAT FALLS GAS CO -9.8750       3    29.6250  1990  \n",
       "3  GREAT FALLS GAS CO -9.8750       3    29.6250  1990  \n",
       "4  GREAT FALLS GAS CO  9.7500       3    29.2500  1990  "
      ]
     },
     "execution_count": 35,
     "metadata": {},
     "output_type": "execute_result"
    }
   ],
   "source": [
    "# monthly stock price data is downloaded from CRSP database\n",
    "prices_df=pd.read_csv(\"CRSPMonthlyPrices.csv\")\n",
    "prices_df.head()"
   ]
  },
  {
   "cell_type": "code",
   "execution_count": 36,
   "metadata": {
    "collapsed": false
   },
   "outputs": [],
   "source": [
    "prices_df=prices_df.drop(['Unnamed: 0'],axis=1)\n",
    "prices_df=prices_df.drop(['Unnamed: 0.1'],axis=1)"
   ]
  },
  {
   "cell_type": "code",
   "execution_count": 37,
   "metadata": {
    "collapsed": false
   },
   "outputs": [
    {
     "data": {
      "text/html": [
       "<div>\n",
       "<table border=\"1\" class=\"dataframe\">\n",
       "  <thead>\n",
       "    <tr style=\"text-align: right;\">\n",
       "      <th></th>\n",
       "      <th>PERMNO</th>\n",
       "      <th>date</th>\n",
       "      <th>SICCD</th>\n",
       "      <th>TICKER</th>\n",
       "      <th>COMNAM</th>\n",
       "      <th>PRC</th>\n",
       "      <th>CFACPR</th>\n",
       "      <th>PRCADJUST</th>\n",
       "      <th>year</th>\n",
       "    </tr>\n",
       "  </thead>\n",
       "  <tbody>\n",
       "    <tr>\n",
       "      <th>0</th>\n",
       "      <td>10001</td>\n",
       "      <td>1/31/90</td>\n",
       "      <td>4920</td>\n",
       "      <td>GFGC</td>\n",
       "      <td>GREAT FALLS GAS CO</td>\n",
       "      <td>-9.9375</td>\n",
       "      <td>3</td>\n",
       "      <td>29.8125</td>\n",
       "      <td>1990</td>\n",
       "    </tr>\n",
       "    <tr>\n",
       "      <th>1</th>\n",
       "      <td>10001</td>\n",
       "      <td>2/28/90</td>\n",
       "      <td>4920</td>\n",
       "      <td>GFGC</td>\n",
       "      <td>GREAT FALLS GAS CO</td>\n",
       "      <td>-9.8750</td>\n",
       "      <td>3</td>\n",
       "      <td>29.6250</td>\n",
       "      <td>1990</td>\n",
       "    </tr>\n",
       "    <tr>\n",
       "      <th>2</th>\n",
       "      <td>10001</td>\n",
       "      <td>3/30/90</td>\n",
       "      <td>4920</td>\n",
       "      <td>GFGC</td>\n",
       "      <td>GREAT FALLS GAS CO</td>\n",
       "      <td>-9.8750</td>\n",
       "      <td>3</td>\n",
       "      <td>29.6250</td>\n",
       "      <td>1990</td>\n",
       "    </tr>\n",
       "    <tr>\n",
       "      <th>3</th>\n",
       "      <td>10001</td>\n",
       "      <td>4/30/90</td>\n",
       "      <td>4920</td>\n",
       "      <td>GFGC</td>\n",
       "      <td>GREAT FALLS GAS CO</td>\n",
       "      <td>-9.8750</td>\n",
       "      <td>3</td>\n",
       "      <td>29.6250</td>\n",
       "      <td>1990</td>\n",
       "    </tr>\n",
       "    <tr>\n",
       "      <th>4</th>\n",
       "      <td>10001</td>\n",
       "      <td>5/31/90</td>\n",
       "      <td>4920</td>\n",
       "      <td>GFGC</td>\n",
       "      <td>GREAT FALLS GAS CO</td>\n",
       "      <td>9.7500</td>\n",
       "      <td>3</td>\n",
       "      <td>29.2500</td>\n",
       "      <td>1990</td>\n",
       "    </tr>\n",
       "  </tbody>\n",
       "</table>\n",
       "</div>"
      ],
      "text/plain": [
       "   PERMNO     date SICCD TICKER              COMNAM     PRC  CFACPR  \\\n",
       "0   10001  1/31/90  4920   GFGC  GREAT FALLS GAS CO -9.9375       3   \n",
       "1   10001  2/28/90  4920   GFGC  GREAT FALLS GAS CO -9.8750       3   \n",
       "2   10001  3/30/90  4920   GFGC  GREAT FALLS GAS CO -9.8750       3   \n",
       "3   10001  4/30/90  4920   GFGC  GREAT FALLS GAS CO -9.8750       3   \n",
       "4   10001  5/31/90  4920   GFGC  GREAT FALLS GAS CO  9.7500       3   \n",
       "\n",
       "   PRCADJUST  year  \n",
       "0    29.8125  1990  \n",
       "1    29.6250  1990  \n",
       "2    29.6250  1990  \n",
       "3    29.6250  1990  \n",
       "4    29.2500  1990  "
      ]
     },
     "execution_count": 37,
     "metadata": {},
     "output_type": "execute_result"
    }
   ],
   "source": [
    "prices_df.head()"
   ]
  },
  {
   "cell_type": "code",
   "execution_count": 39,
   "metadata": {
    "collapsed": true
   },
   "outputs": [],
   "source": [
    "# calculate the adjusted price for each row\n",
    "# adjusted price = absolute price * monthly cumulative adjustment factor \n",
    "# PRCADJUST = PRC * CFACPR\n",
    "def get_adjusted_price(row):\n",
    "    # some prices are negative to indicate that \n",
    "    # they are an average of bid and ask price \n",
    "    # because closing price was not available\n",
    "    if row['PRC']<0:\n",
    "        return -row['PRC']*row['CFACPR']\n",
    "    else: \n",
    "        return row['PRC']*row['CFACPR']"
   ]
  },
  {
   "cell_type": "code",
   "execution_count": 40,
   "metadata": {
    "collapsed": false
   },
   "outputs": [],
   "source": [
    "# add the PRCADJUST column to the dataframe\n",
    "prices_df['PRCADJUST']=prices_df.apply(get_adjusted_price,axis=1)"
   ]
  },
  {
   "cell_type": "code",
   "execution_count": 41,
   "metadata": {
    "collapsed": false
   },
   "outputs": [],
   "source": [
    "import dateutil.parser as parser\n",
    "\n",
    "# parse out the year from the date value\n",
    "def get_year(row):\n",
    "    return parser.parse(row['date']).year\n",
    "\n",
    "# add the year column to the dataframe\n",
    "prices_df['year']=prices_df.apply(get_year,axis=1)"
   ]
  },
  {
   "cell_type": "code",
   "execution_count": 42,
   "metadata": {
    "collapsed": false
   },
   "outputs": [],
   "source": [
    "# drop rows with missing PRCADJUST values\n",
    "prices_df=prices_df[~np.isnan(prices_df['PRCADJUST'])]\n",
    "\n",
    "# save the dataframe to a CSV\n",
    "prices_df.to_csv(\"CRSPMonthlyPrices.csv\")"
   ]
  },
  {
   "cell_type": "code",
   "execution_count": 224,
   "metadata": {
    "collapsed": false
   },
   "outputs": [
    {
     "data": {
      "text/plain": [
       "1196367.3462335477"
      ]
     },
     "execution_count": 224,
     "metadata": {},
     "output_type": "execute_result"
    }
   ],
   "source": [
    "def simulate_year(year,ratio1weight,timespan):\n",
    "    stock_list=get_top(df,year,ratio1weight)[1]\n",
    "    TOTALNUMSTOCKS=30\n",
    "    portfolio_size=1000000\n",
    "    \n",
    "    amount_per_stock=portfolio_size/TOTALNUMSTOCKS\n",
    "    # print stock_list\n",
    "    # for each stock, we want the quantity of stock purchased at end of Jan * (value at end of year - value at beginning of year) \n",
    "    num_stocks=0\n",
    "    total_change=0\n",
    "    for stock in stock_list:\n",
    "        stock_prices= prices_df[prices_df['TICKER']==stock]\n",
    "        stock_prices=stock_prices[stock_prices['year']>=year]\n",
    "        stock_prices=stock_prices[stock_prices['year']<year+timespan]\n",
    "        # check that we have data from this specific stock and year\n",
    "        if len(stock_prices)!=0:\n",
    "            total_change = total_change+amount_per_stock/stock_prices.head(1).PRCADJUST.values[0] * (stock_prices.tail(1).PRCADJUST.values[0]-stock_prices.head(1).PRCADJUST.values[0])\n",
    "            num_stocks=num_stocks+1\n",
    "            if num_stocks>TOTALNUMSTOCKS:\n",
    "                break\n",
    "    portfolio_return_size=portfolio_size + total_change\n",
    "    return portfolio_return_size\n",
    "    \n",
    "simulate_year(1998,0.5,10)\n",
    "    "
   ]
  },
  {
   "cell_type": "code",
   "execution_count": 230,
   "metadata": {
    "collapsed": false
   },
   "outputs": [
    {
     "name": "stdout",
     "output_type": "stream",
     "text": [
      " 1995 0.125 1147916.13521\n",
      "1995 0.25 1152677.99235\n",
      "1995 0.375 1128667.2897\n",
      "1995 0.5 1128667.2897\n",
      "1995 0.625 1141167.1647\n",
      "1995 0.75 1190519.55305\n",
      "1995 0.875 1183202.55305\n",
      "1996 0.125 1081642.31972\n",
      "1996 0.25 1046449.6496\n",
      "1996 0.375 1021020.25296\n",
      "1996 0.5 1041541.61381\n",
      "1996 0.625 1012462.27973\n",
      "1996 0.75 1010330.90011\n",
      "1996 0.875 1007088.14663\n",
      "1997 0.125 nan\n",
      "1997 0.25 nan\n",
      "1997 0.375 1070491.29975\n",
      "1997 0.5 1069540.20227\n",
      "1997 0.625 1056459.69878\n",
      "1997 0.75 1085143.79095\n",
      "1997 0.875 1077761.94791\n",
      "1998 0.125 973842.63158\n",
      "1998 0.25 1053991.36127\n",
      "1998 0.375 991117.387426\n",
      "1998 0.5 1015326.25561\n",
      "1998 0.625 994574.946783\n",
      "1998 0.75 981201.880038\n",
      "1998 0.875 1014418.18449\n",
      "1999 0.125 1080026.43471\n",
      "1999 0.25 1021265.53632\n",
      "1999 0.375 955904.415308\n",
      "1999 0.5 948428.533019\n",
      "1999 0.625 1116466.94616\n",
      "1999 0.75 1105587.47862\n",
      "1999 0.875 1149014.31884\n",
      "2000 0.125 956216.8359\n",
      "2000 0.25 1072748.5467\n",
      "2000 0.375 1063454.8827\n",
      "2000 0.5 1005766.398\n",
      "2000 0.625 934543.051216\n",
      "2000 0.75 1150609.25767\n",
      "2000 0.875 1161824.37681\n",
      "2001 0.125 nan\n",
      "2001 0.25 nan\n",
      "2001 0.375 923803.515557\n",
      "2001 0.5 1009927.4423\n",
      "2001 0.625 1009820.27431\n",
      "2001 0.75 931040.656689\n",
      "2001 0.875 950671.468244\n",
      "2002 0.125 2338807.46479\n",
      "2002 0.25 755194.208954\n",
      "2002 0.375 812071.74405\n",
      "2002 0.5 858649.265639\n",
      "2002 0.625 894843.683618\n",
      "2002 0.75 821312.277494\n",
      "2002 0.875 827867.486047\n",
      "2003 0.125 5526757.03459\n",
      "2003 0.25 1466270.43469\n",
      "2003 0.375 1482158.49134\n",
      "2003 0.5 1429413.41665\n",
      "2003 0.625 1364180.48139\n",
      "2003 0.75 1367886.25397\n",
      "2003 0.875 1441545.29724\n",
      "2004 0.125 1077610.21927\n",
      "2004 0.25 1078470.62672\n",
      "2004 0.375 1130423.96481\n",
      "2004 0.5 1140274.98195\n",
      "2004 0.625 1148354.29189\n",
      "2004 0.75 1189289.88861\n",
      "2004 0.875 1212745.60576\n",
      "2005 0.125 2823151.31726\n",
      "2005 0.25 1032877.99563\n",
      "2005 0.375 1043320.0406\n",
      "2005 0.5 1059632.12643\n",
      "2005 0.625 1048186.68586\n",
      "2005 0.75 1121270.2337\n",
      "2005 0.875 1076154.40579\n",
      "2006 0.125 nan\n",
      "2006 0.25 nan\n",
      "2006 0.375 927946.985652\n",
      "2006 0.5 932366.600752\n",
      "2006 0.625 934135.101701\n",
      "2006 0.75 982560.633753\n",
      "2006 0.875 1023059.40909\n",
      "2007 0.125 1129489.48004\n",
      "2007 0.25 977299.359454\n",
      "2007 0.375 1015357.83062\n",
      "2007 0.5 1036703.96919\n",
      "2007 0.625 1183119.47348\n",
      "2007 0.75 1240051.41842\n",
      "2007 0.875 1212658.19832\n",
      "2008 0.125 637690.587644\n",
      "2008 0.25 678243.826727\n",
      "2008 0.375 673513.047489\n",
      "2008 0.5 668411.589462\n",
      "2008 0.625 643754.952858\n",
      "2008 0.75 638150.156786\n",
      "2008 0.875 548162.252191\n",
      "2009 0.125 1893397.45908\n",
      "2009 0.25 1945763.97797\n",
      "2009 0.375 1951560.17863\n",
      "2009 0.5 1725420.7904\n",
      "2009 0.625 2010200.35796\n",
      "2009 0.75 2027840.225\n",
      "2009 0.875 2494022.29315\n",
      "2010 0.125 1388641.59535\n",
      "2010 0.25 1310299.57426\n",
      "2010 0.375 1270661.4422\n",
      "2010 0.5 1162776.28968\n",
      "2010 0.625 1137323.31134\n",
      "2010 0.75 1200874.94403\n",
      "2010 0.875 1274388.98404\n",
      "2011 0.125 994634.520389\n",
      "2011 0.25 1026376.81374\n",
      "2011 0.375 905987.537482\n",
      "2011 0.5 843384.081875\n",
      "2011 0.625 818259.554076\n",
      "2011 0.75 793144.879555\n",
      "2011 0.875 788022.473235\n",
      "2012 0.125 1020150.93023\n",
      "2012 0.25 951724.902294\n",
      "2012 0.375 930636.591877\n",
      "2012 0.5 899291.918045\n",
      "2012 0.625 909650.138865\n",
      "2012 0.75 992245.850105\n",
      "2012 0.875 993297.710908\n",
      "2013 0.125 3750349.16347\n",
      "2013 0.25 3756243.75659\n",
      "2013 0.375 3755902.98401\n",
      "2013 0.5 3803336.18503\n",
      "2013 0.625 3815787.4073\n",
      "2013 0.75 3751632.89034\n",
      "2013 0.875 3562533.62048\n",
      "2014 0.125 1068405.07722\n",
      "2014 0.25 1226670.74164\n",
      "2014 0.375 1298082.1302\n",
      "2014 0.5 1332421.90633\n",
      "2014 0.625 1361946.72993\n",
      "2014 0.75 1279334.28647\n",
      "2014 0.875 1240731.2979\n",
      "CPU times: user 7min 34s, sys: 11.9 s, total: 7min 46s\n",
      "Wall time: 7min 46s\n"
     ]
    }
   ],
   "source": [
    "%%time\n",
    "for year in range(1995,2015):\n",
    "    for ratio in [0.375,0.5,0.625,0.75,0.875]:\n",
    "        print year,ratio, simulate_year(year, ratio,1)"
   ]
  },
  {
   "cell_type": "code",
   "execution_count": null,
   "metadata": {
    "collapsed": true
   },
   "outputs": [],
   "source": [
    "def simulate_year_recursive(portfolio_size, year,ratio1weight,timespan):\n",
    "    stock_list=get_top(df,year,ratio1weight)[1]\n",
    "    TOTALNUMSTOCKS=30\n",
    "    # portfolio_size=1000000\n",
    "    \n",
    "    amount_per_stock=portfolio_size/TOTALNUMSTOCKS\n",
    "    # print stock_list\n",
    "    # for each stock, we want the quantity of stock purchased at end of Jan * (value at end of year - value at beginning of year) \n",
    "    num_stocks=0\n",
    "    total_change=0\n",
    "    for stock in stock_list:\n",
    "        stock_prices= prices_df[prices_df['TICKER']==stock]\n",
    "        stock_prices=stock_prices[stock_prices['year']>=year]\n",
    "        stock_prices=stock_prices[stock_prices['year']<year+timespan]\n",
    "        # check that we have data from this specific stock and year\n",
    "        if len(stock_prices)!=0:\n",
    "            total_change = total_change+amount_per_stock/stock_prices.head(1).PRCADJUST.values[0] * (stock_prices.tail(1).PRCADJUST.values[0]-stock_prices.head(1).PRCADJUST.values[0])\n",
    "            num_stocks=num_stocks+1\n",
    "            if num_stocks>TOTALNUMSTOCKS:\n",
    "                break\n",
    "    portfolio_return_size=portfolio_size + total_change\n",
    "    return portfolio_return_size\n",
    "    \n",
    "simulate_year(1998,0.5,10)"
   ]
  }
 ],
 "metadata": {
  "kernelspec": {
   "display_name": "Python 2",
   "language": "python",
   "name": "python2"
  },
  "language_info": {
   "codemirror_mode": {
    "name": "ipython",
    "version": 2
   },
   "file_extension": ".py",
   "mimetype": "text/x-python",
   "name": "python",
   "nbconvert_exporter": "python",
   "pygments_lexer": "ipython2",
   "version": "2.7.10"
  }
 },
 "nbformat": 4,
 "nbformat_minor": 0
}
